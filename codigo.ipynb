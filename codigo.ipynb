{
 "cells": [
  {
   "cell_type": "code",
   "execution_count": 26,
   "metadata": {},
   "outputs": [],
   "source": [
    "import time\n",
    "import math"
   ]
  },
  {
   "cell_type": "markdown",
   "metadata": {},
   "source": [
    "[ 22 ] Faça um Programa que peça dois números e imprima o maior deles.  "
   ]
  },
  {
   "cell_type": "code",
   "execution_count": null,
   "metadata": {},
   "outputs": [],
   "source": [
    "while True:\n",
    "    print('''Menu:\n",
    "        [ 1 ] Saber qual número é maior\n",
    "        [ 2 ] Sair \n",
    "        ''')\n",
    "    alternativa = (input(''))\n",
    "    if alternativa == '1':\n",
    "        n1 = float(input('Digite um número: '))\n",
    "        n2 = float(input('Digite outro número: '))\n",
    "        if (n1 > n2) :\n",
    "            print('O maior número é {}'.format(n1))\n",
    "        elif (n1 < n2) :\n",
    "            print('O maior número é {}'.format(n2))\n",
    "        else :\n",
    "            print('Os dois números são iguais')\n",
    "    elif alternativa == '2':\n",
    "        break\n",
    "    else:\n",
    "        print('Opção inválida')\n"
   ]
  },
  {
   "cell_type": "markdown",
   "metadata": {},
   "source": [
    "[ 23 ] Faça um Programa que peça um valor e mostre na tela se o valor é positivo ou negativo.  "
   ]
  },
  {
   "cell_type": "code",
   "execution_count": null,
   "metadata": {},
   "outputs": [],
   "source": [
    "valor = float(input('Digite um valor: '))\n",
    "print('O valor é...')\n",
    "time.sleep(3)\n",
    "if valor < 0:\n",
    "    print('O valor é negativo')\n",
    "elif valor > 0:\n",
    "    print('O valor é positivo')\n",
    "else :\n",
    "    print('O valor é zero')"
   ]
  },
  {
   "cell_type": "markdown",
   "metadata": {},
   "source": [
    "[ 24 ] Faça um Programa que verifique se uma letra digitada é \"F\" ou \"M\". Conforme a letra escrever: F - Feminino, M - Masculino, Sexo Inválido.  "
   ]
  },
  {
   "cell_type": "code",
   "execution_count": null,
   "metadata": {},
   "outputs": [],
   "source": [
    "genero = str(input('Qual o seu genêro: ')).upper()\n",
    "if genero == \"MASCULINO\":\n",
    "    print('M - Masculino')\n",
    "elif genero == \"FEMININO\":\n",
    "    print('F - Feminino')\n",
    "else:\n",
    "    print('Sexo Inválido')"
   ]
  },
  {
   "cell_type": "markdown",
   "metadata": {},
   "source": [
    "[ 25 ] Faça um programa para a leitura de duas notas parciais de um aluno. O programa deve calcular a média alcançada por aluno e apresentar:  \n",
    "\n",
    "        A mensagem \"Aprovado\", se a média alcançada for maior ou igual a sete;  \n",
    "\n",
    "        A mensagem \"Reprovado\", se a média for menor do que sete;  \n",
    "\n",
    "        A mensagem \"Aprovado com Distinção\", se a média for igual a dez "
   ]
  },
  {
   "cell_type": "code",
   "execution_count": null,
   "metadata": {},
   "outputs": [],
   "source": [
    "\n",
    "nota1 = float(input(\"Digite a primeira nota: \"))\n",
    "nota2 = float(input(\"Digite a segunda nota: \"))\n",
    "\n",
    "media = (nota1 + nota2) / 2\n",
    "\n",
    "if media == 10:\n",
    "    print(\"Aprovado com Distinção\")\n",
    "elif media >= 7 and media < 10:\n",
    "    print(\"Aprovado\")\n",
    "else:\n",
    "    print(\"Reprovado\")\n"
   ]
  },
  {
   "cell_type": "markdown",
   "metadata": {},
   "source": [
    "[ 26 ]Faça um Programa que leia três números e mostre o maior deles.  "
   ]
  },
  {
   "cell_type": "code",
   "execution_count": null,
   "metadata": {},
   "outputs": [],
   "source": [
    "numero1 = float(input(\"Digite o primeiro número: \"))\n",
    "numero2 = float(input(\"Digite o segundo número: \"))\n",
    "numero3 = float(input(\"Digite o terceiro número: \"))\n",
    "\n",
    "maior_numero = max(numero1,numero2,numero3)\n",
    "\n",
    "\n",
    "print(\"O maior número é:\", maior_numero)\n",
    "\n"
   ]
  },
  {
   "cell_type": "markdown",
   "metadata": {},
   "source": [
    "[ 27 ] Faça um programa que pergunte o preço de três produtos e informe qual produto você deve comprar, sabendo que a decisão é sempre pelo mais barato.  "
   ]
  },
  {
   "cell_type": "code",
   "execution_count": null,
   "metadata": {},
   "outputs": [],
   "source": [
    "preco_produto1 = float(input(\"Digite o preço do primeiro produto: \"))\n",
    "preco_produto2 = float(input(\"Digite o preço do segundo produto: \"))\n",
    "preco_produto3 = float(input(\"Digite o preço do terceiro produto: \"))\n",
    "\n",
    "produto_mais_barato = min(preco_produto1, preco_produto2, preco_produto3)\n",
    "\n",
    "\n",
    "print(f\"Você deve comprar o produto com o preço R${produto_mais_barato}\")\n"
   ]
  },
  {
   "cell_type": "markdown",
   "metadata": {},
   "source": [
    "[ 28 ] Faça um Programa que pergunte em que turno você estuda. Peça para digitar M-matutino ou V-Vespertino ou N- Noturno. Imprima a mensagem \"Bom Dia!\", \"Boa Tarde!\" ou \"Boa Noite!\" ou \"Valor Inválido!\", conforme o caso.  "
   ]
  },
  {
   "cell_type": "code",
   "execution_count": null,
   "metadata": {},
   "outputs": [],
   "source": [
    "turno = input(\"Em que turno você estuda? (M-matutino, V-Vespertino, N-Noturno): \")\n",
    "\n",
    "primeira_letra = turno[0].upper()\n",
    "\n",
    "if primeira_letra == 'M':\n",
    "    print(\"Bom Dia!\")\n",
    "elif primeira_letra == 'V':\n",
    "    print(\"Boa Tarde!\")\n",
    "elif primeira_letra == 'N':\n",
    "    print(\"Boa Noite!\")\n",
    "else:\n",
    "    print(\"Valor Inválido!\")\n"
   ]
  },
  {
   "cell_type": "markdown",
   "metadata": {},
   "source": [
    "[ 29 ]As Organizações Tabajara resolveram dar um aumento de salário aos seus colaboradores e lhe contrataram para desenvolver o programa que calculará os reajustes. Faça um programa que recebe o salário de um colaborador e o reajuste segundo o seguinte critério, baseado no salário atual:  \n",
    "\n",
    "    salários até R$ 280,00 (incluindo): aumento de 20%  \n",
    "\n",
    "    salários entre R$ 280,00 e R$ 700,00: aumento de 15%  \n",
    "\n",
    "    salários entre R$ 700,00 e R$ 1500,00: aumento de 10%  \n",
    "\n",
    "    salários de R$ 1500,00 em diante: aumento de 5% Após o aumento ser realizado, informe na tela:  \n",
    "\n",
    "        o salário antes do reajuste;  \n",
    "\n",
    "        o percentual de aumento aplicado;  \n",
    "\n",
    "        o valor do aumento;  \n",
    "\n",
    "        o novo salário, após o aumento."
   ]
  },
  {
   "cell_type": "code",
   "execution_count": null,
   "metadata": {},
   "outputs": [],
   "source": [
    "#29"
   ]
  }
 ],
 "metadata": {
  "kernelspec": {
   "display_name": "Python 3",
   "language": "python",
   "name": "python3"
  },
  "language_info": {
   "codemirror_mode": {
    "name": "ipython",
    "version": 3
   },
   "file_extension": ".py",
   "mimetype": "text/x-python",
   "name": "python",
   "nbconvert_exporter": "python",
   "pygments_lexer": "ipython3",
   "version": "3.11.8"
  }
 },
 "nbformat": 4,
 "nbformat_minor": 2
}
