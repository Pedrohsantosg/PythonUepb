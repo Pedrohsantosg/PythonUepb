{
 "cells": [
  {
   "cell_type": "code",
   "execution_count": 11,
   "metadata": {},
   "outputs": [],
   "source": [
    "import time\n",
    "import math\n"
   ]
  },
  {
   "cell_type": "markdown",
   "metadata": {},
   "source": [
    "[ 1 ] Faça um Programa que peça um número e então mostre a mensagem: O número informado foi [ número ].  "
   ]
  },
  {
   "cell_type": "code",
   "execution_count": null,
   "metadata": {},
   "outputs": [],
   "source": [
    "#pedir um numero\n",
    "numero = int(input(\"Digite um número: \"))\n",
    "#mostrar um mensagem com o número digitado\n",
    "print(\"O némero informado foi ....\")\n",
    "time.sleep(2)\n",
    "print(numero)"
   ]
  },
  {
   "cell_type": "markdown",
   "metadata": {},
   "source": [
    "[ 2 ] Faça um Programa que peça dois números e imprima a soma.  "
   ]
  },
  {
   "cell_type": "code",
   "execution_count": null,
   "metadata": {},
   "outputs": [],
   "source": [
    "#peça dois números\n",
    "numero1 = int(input(\"Digite o primeiro número: \"))\n",
    "numero2 = int(input(\"Digite o segundo número: \"))\n",
    "#somar dois numeros\n",
    "soma = numero1 + numero2\n",
    "#imprimir a soma\n",
    "print(f\"A soma será {soma}\")"
   ]
  },
  {
   "cell_type": "markdown",
   "metadata": {},
   "source": [
    "[ 3 ] Faça um Programa que peça as 4 notas bimestrais e mostre a média.  "
   ]
  },
  {
   "cell_type": "code",
   "execution_count": null,
   "metadata": {},
   "outputs": [],
   "source": [
    "#pedir as 4 notas bimestrais \n",
    "\n",
    "nota1 = float(input(\"Digite a primeira nota: \"))\n",
    "nota2 = float(input(\"Digite a segunda nota: \"))\n",
    "nota3 = float(input(\"Digite a terceira nota: \"))\n",
    "nota4 = float(input(\"Digite a quarta nota: \"))\n",
    "#calcular a média \n",
    "\n",
    "media = (nota1 + nota2 + nota3 + nota4) / 4\n",
    "\n",
    "#imprimir a média\n",
    "\n",
    "print(f\"A média será {media:.1f}\")\n",
    "\n"
   ]
  },
  {
   "cell_type": "markdown",
   "metadata": {},
   "source": [
    "[ 4 ] Faça um Programa que converta metros para centímetros.  "
   ]
  },
  {
   "cell_type": "code",
   "execution_count": null,
   "metadata": {},
   "outputs": [],
   "source": [
    "\n",
    "# receber um número em metros \n",
    "metros = float(input(\"Digite um número em metros: \"))\n",
    "#converta metros para centímetros\n",
    "centimetros = metros * 100\n",
    "#imprimir o resultado\n",
    "print(f\"O número em centímetros é {centimetros:.1f}\")\n"
   ]
  },
  {
   "cell_type": "markdown",
   "metadata": {},
   "source": [
    "[ 5 ] Faça um Programa que peça o raio de um círculo, calcule e mostre sua área."
   ]
  },
  {
   "cell_type": "code",
   "execution_count": null,
   "metadata": {},
   "outputs": [],
   "source": [
    "#pedir o raio de um círculo\n",
    "raio = float(input(\"Digite o raio do círculo: \"))\n",
    "#calcular a área do círculo\n",
    "area = math.pi * (raio ** 2)\n",
    "#imprimir o resultado\n",
    "print(f'A área do círculo é {area:.1f}')\n"
   ]
  },
  {
   "cell_type": "markdown",
   "metadata": {},
   "source": [
    "[ 6 ] Faça um Programa que calcule a área de um quadrado, em seguida mostre o dobro desta área para o usuário.   "
   ]
  },
  {
   "cell_type": "code",
   "execution_count": null,
   "metadata": {},
   "outputs": [],
   "source": [
    "#receber o lado do quadrado\n",
    "\n",
    "lado = int(input(\"Digite o lado do quadrado: \"))\n",
    "#calcular a área do quadrado\n",
    "\n",
    "area = lado ** 2\n",
    "dobro_area = area * 2\n",
    "\n",
    "#imprimir o resultado\n",
    "\n",
    "print(f'A área do quadrado é {area:.1f}')\n",
    "print(f'O dobro da área é {dobro_area:.1f}')"
   ]
  },
  {
   "cell_type": "markdown",
   "metadata": {},
   "source": [
    "[ 7 ] Faça um Programa que pergunte quanto você ganha por hora e o número de horas trabalhadas no mês. Calcule e mostre o total do seu salário no referido mês. "
   ]
  },
  {
   "cell_type": "code",
   "execution_count": null,
   "metadata": {},
   "outputs": [],
   "source": [
    "#pergunta quanto ganha por hora e o numero de horas trabalhadas no mês\n",
    "\n",
    "salario_horas = float(input(\"Digite o quanto você ganha por hora trabalhada:\"))\n",
    "horas_mes = float(input(\"Digite a quantidade de horas trabalhadas no mês: \"))\n",
    "\n",
    "#calcular\n",
    "\n",
    "salario_mes = salario_horas * horas_mes\n",
    "\n",
    "#imprimir o resultado \n",
    "\n",
    "print(f'O salário do mês é de R${salario_mes:.2f}')"
   ]
  },
  {
   "cell_type": "markdown",
   "metadata": {},
   "source": [
    "[ 8 ] Faça um Programa que peça a temperatura em graus Farenheit, transforme e mostre a temperatura em graus Celsius. C = (5 * (F-32) / 9).  "
   ]
  },
  {
   "cell_type": "code",
   "execution_count": null,
   "metadata": {},
   "outputs": [],
   "source": [
    "#pedir a temperatura em Farenheit\n",
    "\n",
    "temperatura_farenheit = float(input(\"Digite a temperatura em Farenheit: \"))\n",
    "\n",
    "#calcular a temperatura em Celsius\n",
    "\n",
    "temperatura_celsius = (5 * (temperatura_farenheit - 32) / 9)\n",
    "arredondado_c = round(temperatura_celsius)\n",
    "\n",
    "#imprimir o resultado\n",
    "\n",
    "print(f'A temperatura em Celsius é de {arredondado_c:.0f}')"
   ]
  },
  {
   "cell_type": "markdown",
   "metadata": {},
   "source": [
    "[ 9 ] Faça um Programa que peça a temperatura em graus Celsius, transforme e mostre em graus Farenheit.  "
   ]
  },
  {
   "cell_type": "code",
   "execution_count": null,
   "metadata": {},
   "outputs": [],
   "source": [
    "#pedir a temperatura em celsius\n",
    "\n",
    "temperatura_celsius = float(input(\"Digite a temperatura em Celsius: \"))\n",
    "\n",
    "#calcular a temperatura em Farenheit\n",
    "\n",
    "temperatura_farenheit = (temperatura_celsius * 9) / 5 + 32\n",
    "arredondado_f = round(temperatura_farenheit)\n",
    "\n",
    "#imprimir o resultado\n",
    "\n",
    "print(f'A temperatura em Farenheit é de {arredondado_f:.0f}')"
   ]
  },
  {
   "cell_type": "markdown",
   "metadata": {},
   "source": [
    "[ 10 ] Elaborar um algoritmo que efetue a apresentação do valor da conversão em real (R$) de um valor lido em dólar (US$). O algoritmo deverá solicitar o valor da cotação do dólar e também a quantidade de dólares disponíveis com o usuário. "
   ]
  },
  {
   "cell_type": "code",
   "execution_count": null,
   "metadata": {},
   "outputs": [],
   "source": [
    "#ler o dolar\n",
    "\n",
    "dolar = float(input(\"Qual a cotação do dólar atualmente: \"))\n",
    "quatidade = float(input(\"Qual a quantidade de dólares disponíveis com você: \"))\n",
    "\n",
    "#conversão \n",
    "\n",
    "real = dolar * quatidade\n",
    "\n",
    "#imprimir o resultado\n",
    "\n",
    "print(f'O valor da conversão é de R${real:.2f}')\n"
   ]
  },
  {
   "cell_type": "markdown",
   "metadata": {},
   "source": [
    "[ 11 ]Faça um algoritmo que receba um valor que foi depositado e exiba o valor com rendimento após um mês. Considere fixo o juro da poupança em 0,70% a. m. "
   ]
  },
  {
   "cell_type": "code",
   "execution_count": null,
   "metadata": {},
   "outputs": [],
   "source": [
    "#valor depositado \n",
    "\n",
    "valor_depositado = float(input(\"Digite o valor depositado: \"))\n",
    "\n",
    "#calcular o rendimento\n",
    "rendimento = (valor_depositado * (0.70/100))\n",
    "\n",
    "novo_valor = valor_depositado + (valor_depositado * (0.70/100))\n",
    "\n",
    "#imprimir o resultado\n",
    "\n",
    "print(f'O rendimento foi de {rendimento:.2f}, possuindo um saldo agora de {novo_valor:.2f}')"
   ]
  },
  {
   "cell_type": "code",
   "execution_count": null,
   "metadata": {},
   "outputs": [],
   "source": [
    "[ 12 ] A Loja Mamão com Açúcar está vendendo seus produtos em 5 (cinco) prestações sem juros. Faça um algoritmo que receba um valor de uma compra e mostre o valor das prestações. "
   ]
  },
  {
   "cell_type": "code",
   "execution_count": null,
   "metadata": {},
   "outputs": [],
   "source": [
    "#valor de compra \n",
    "\n",
    "valor_compra = float(input(\"Digite o valor da compra: \"))\n",
    "\n",
    "#calcular o valor das prestações\n",
    "\n",
    "valor_prestacao = valor_compra / 5\n",
    "\n",
    "#imprimir o resultado\n",
    "\n",
    "print(f'O valor das prestações é de {valor_prestacao:.2f}')"
   ]
  },
  {
   "cell_type": "markdown",
   "metadata": {},
   "source": [
    "[ 13 ] Faça um algoritmo que receba o preço de custo de um produto e mostre o valor de venda. Sabe-se que o preço de custo receberá um acréscimo de acordo com um percentual informado pelo usuário. "
   ]
  },
  {
   "cell_type": "code",
   "execution_count": null,
   "metadata": {},
   "outputs": [],
   "source": [
    "# recebendo o preço de custo do produto\n",
    "preco_de_custo = float(input(\"Digite o preço de custo do produto: \"))\n",
    "\n",
    "# solicita o percentual de aumento\n",
    "percentual_aumento = float(input(\"Digite o percentual de aumento: \"))\n",
    "\n",
    "# calcula o aumento\n",
    "aumento = preco_de_custo * (percentual_aumento / 100)\n",
    "\n",
    "# calcula o preço de venda\n",
    "preco_de_venda = preco_de_custo + aumento\n",
    "\n",
    "# exibe o preço de venda\n",
    "print(f\"O preço de venda é R${preco_de_venda:.2f}.\")"
   ]
  },
  {
   "cell_type": "markdown",
   "metadata": {},
   "source": [
    "[ 14 ]Escrever um algoritmo para determinar o consumo médio de um automóvel sendo fornecida a distância total percorrida pelo automóvel e o total de combustível gasto."
   ]
  },
  {
   "cell_type": "code",
   "execution_count": null,
   "metadata": {},
   "outputs": [],
   "source": [
    "#total de distancia pecorrida \n",
    "\n",
    "distancia_total = float(input(\"Digite a distância total percorrida pelo automóvel: \"))\n",
    "\n",
    "#total de combustível gasto \n",
    "\n",
    "combustivel_gasto = float(input(\"Digite o total de combustível gasto: \"))\n",
    "\n",
    "#calcular o consumo médio\n",
    "\n",
    "consumo_media = distancia_total / combustivel_gasto\n",
    "\n",
    "#imprimir o resultado\n",
    "\n",
    "print(f'O consumo médio é de {consumo_media:.2f} litros de combustível.')\n",
    "\n"
   ]
  },
  {
   "cell_type": "markdown",
   "metadata": {},
   "source": [
    "[ 15 ] Escreva um programa que leia três números inteiros e positivos (A, B, C) e calcule a seguinte expressão:  D = (r + s)/2, onde [r = (a + b)**2] , [s = (b + c)elevado ao quadrado]"
   ]
  },
  {
   "cell_type": "code",
   "execution_count": null,
   "metadata": {},
   "outputs": [],
   "source": [
    "#ler os tres numeros\n",
    "\n",
    "a = int(input(\"Digite o primeiro número: \"))\n",
    "b = int(input(\"Digite o segundo número: \"))\n",
    "c = int(input(\"Digite o terceiro número: \"))\n",
    "\n",
    "#calcular a expressão\n",
    "r = (a + b)**2\n",
    "s = (b + c)**2\n",
    "\n",
    "d = (r + s) / 2\n",
    "\n",
    "#imprimir o resultado\n",
    "\n",
    "print(f'A expressão é D = {d:.1f}.')\n"
   ]
  },
  {
   "cell_type": "markdown",
   "metadata": {},
   "source": [
    "[ 16 ]Escrever um algoritmo que leia o nome de um vendedor, o seu salário fixo e o total de vendas efetuadas por ele no mês (em dinheiro). Sabendo que este vendedor ganha 15% de comissão sobre suas vendas efetuadas, informar o seu nome, o salário fixo e salário no final do mês. "
   ]
  },
  {
   "cell_type": "code",
   "execution_count": null,
   "metadata": {},
   "outputs": [],
   "source": [
    "#ler o nome do vendendor, salario fixo, total de vendas efetuadas por ele no mês \n",
    "\n",
    "vendedor = str(input(\"Digite o nome do vendedor: \"))\n",
    "salario_fixo = float(input(\"Digite o salário fixo: \"))\n",
    "total_vendas = float(input(\"Digite o total de vendas efetuadas por ele no mês: \"))\n",
    "\n",
    "#calcular o salário no final do mês \n",
    "\n",
    "comissao = (15/100)*total_vendas\n",
    "salario_novo = comissao + salario_fixo \n",
    "\n",
    "#imprimir o resultado\n",
    "\n",
    "print(f'O nome do vendedor é {vendedor}, o salário fixo é de {salario_fixo:.2f} e o salário no final do mês é de {salario_novo:.2f}.')\n"
   ]
  },
  {
   "cell_type": "markdown",
   "metadata": {},
   "source": [
    "[ 17 ]Faça um Programa que peça 2 números inteiros e um número real. Calcule e mostre:  \n",
    "\n",
    ". o produto do dobro do primeiro com metade do segundo .  \n",
    "\n",
    ". a soma do triplo do primeiro com o terceiro.      \n",
    "\n",
    ". o terceiro elevado ao cubo.  "
   ]
  },
  {
   "cell_type": "code",
   "execution_count": null,
   "metadata": {},
   "outputs": [],
   "source": [
    "#pedir dois números interiros e um numero real\n",
    "\n",
    "a = int(input(\"Digite o primeiro número: \"))\n",
    "b = int(input(\"Digite o segundo número: \"))\n",
    "c = float(input(\"Digite o terceiro número: \"))\n",
    "\n",
    "#calcular o produto do dobro do primeiro com metade do segundo\n",
    "\n",
    "calulo1 = (a*2)*(b/2)\n",
    "\n",
    "#soma do triplo do primeiro com o terceiro\n",
    "\n",
    "calculo2 = (3*a)+ c\n",
    "\n",
    "#calcular o terceiro elevado ao cubo\n",
    "\n",
    "calculo3 = c**3\n",
    "\n",
    "#imprimir o resultado\n",
    "\n",
    "print(f'O produto do dobro do primeiro com metade do segundo é de {calulo1:.2f}.')\n",
    "print(f'A soma do triplo do primeiro com o terceiro é de {calculo2:.2f}.')\n",
    "print(f'O terceiro elevado ao cubo é de {calculo3:.2f}.')\n"
   ]
  },
  {
   "cell_type": "markdown",
   "metadata": {},
   "source": [
    "[ 18 ]Tendo como dados de entrada a altura de uma pessoa, construa um algoritmo que calcule seu peso ideal, usando a seguinte fórmula: (72.7*altura) – 58. "
   ]
  },
  {
   "cell_type": "code",
   "execution_count": null,
   "metadata": {},
   "outputs": [],
   "source": [
    "#altura de uma pessoa \n",
    "\n",
    "altura = float(input(\"Digite a altura da pessoa: \"))\n",
    "\n",
    "#calcular o peso ideal\n",
    "\n",
    "peso_ideal = (72.7*altura) - 58\n",
    "\n",
    "#imprimir o resultado\n",
    "\n",
    "print(f'O peso ideal é de {peso_ideal:.2f} Kg.')\n"
   ]
  },
  {
   "cell_type": "markdown",
   "metadata": {},
   "source": [
    "[ 19 ]Faça um programa que peça o tamanho de um arquivo para download (em MB) e a velocidade de um link de Internet (em MBps), calcule e informe o tempo aproximado de download do arquivo usando este link (em minutos). "
   ]
  },
  {
   "cell_type": "code",
   "execution_count": null,
   "metadata": {},
   "outputs": [],
   "source": [
    "#pedir o tamanho do arquivo para dowload , velociade de um link\n",
    "\n",
    "tamanho_arquivo = float(input(\"Digite o tamanho do arquivo para download: \"))\n",
    "velocidade = float(input(\"Digite a velocidade de um link de Internet: \"))\n",
    "\n",
    "#calculo do tempo\n",
    "\n",
    "tempo = tamanho_arquivo / (velocidade * 60)\n",
    "\n",
    "#imprimir o tempo em minutos\n",
    "\n",
    "print(f'O tempo aproximado de download do arquivo usando este link é de {tempo:.2f} minutos.')\n",
    "\n"
   ]
  },
  {
   "cell_type": "markdown",
   "metadata": {},
   "source": [
    "[ 20 ]Ler dois valores para as variáveis A e B, e efetuar as trocas dos valores de forma que a variável A passe a possuir o valor da variável B e a variável B passe a possuir o valor da variável A. Apresentar os valores trocados. "
   ]
  },
  {
   "cell_type": "code",
   "execution_count": null,
   "metadata": {},
   "outputs": [],
   "source": [
    "#ler a e b\n",
    "\n",
    "a = int(input(\"Digite a: \"))\n",
    "b = int(input(\"Digite b: \"))\n",
    "\n",
    "#efetuar a troca\n",
    "\n",
    "c = a\n",
    "a = b\n",
    "b = c\n",
    "\n",
    "#imprimir o resultado\n",
    "\n",
    "print(f'Os valores trocados são {a} e {b}.')\n"
   ]
  },
  {
   "cell_type": "markdown",
   "metadata": {},
   "source": [
    "[ 21 ]Faça um Programa que pergunte quanto você ganha por hora e o número de horas trabalhadas no mês. Calcule e mostre o total do seu salário no referido mês, sabendo-se que são descontados 11% para o Imposto de Renda, 8% para o INSS e 5% para o sindicato, faça um programa que nos dê:  \n",
    "\n",
    ". salário bruto.  \n",
    "\n",
    ". quanto pagou ao INSS.  \n",
    "\n",
    ". quanto pagou ao sindicato.  \n",
    "\n",
    ". o salário líquido.  \n",
    "\n",
    ". calcule os descontos e o salário líquido, conforme a tabela abaixo: \n",
    "\n",
    "Salário Bruto : R$ \n",
    "\n",
    "IR (11%) : R$ \n",
    "\n",
    "INSS (8%) : R$ \n",
    "\n",
    "Sindicato ( 5%) : R$ \n",
    "\n",
    "Salário Liquido : R$ \n",
    "\n",
    "Obs.: Salário Bruto - Descontos = Salário Líquido. "
   ]
  },
  {
   "cell_type": "code",
   "execution_count": null,
   "metadata": {},
   "outputs": [],
   "source": [
    "#quanto ganha por hora, numero de horas trabalhadas por mes\n",
    "\n",
    "salario_hora = float(input(\"Digite quanto ganha por hora: \"))\n",
    "horas_trabalhadas = float(input(\"Digite o numero de horas trabalhadas por mês: \"))\n",
    "\n",
    "#calcular o total do salario \n",
    "\n",
    "salario_total = salario_hora * horas_trabalhadas\n",
    "\n",
    "#descontos do importo de renda, inss, sindicato\n",
    "\n",
    "desconto_renda = (salario_hora * (11 / 100))\n",
    "desconto_inss = (salario_hora * (8 / 100))\n",
    "desconto_sindicato = (salario_hora * (5 / 100))\n",
    "desconto_total = desconto_inss + desconto_sindicato + desconto_renda\n",
    "\n",
    "#calcular o salario líquido\n",
    "\n",
    "salario_liquido = salario_total - desconto_total\n",
    "\n",
    "#imprimir o resultado\n",
    "\n",
    "print(f'Salário Bruto: R${salario_total:.2f}.')\n",
    "print(f'IR (11%): R$ {desconto_renda:.2f}.')\n",
    "print(f'INSS (8%): R${desconto_inss:.2f}.')\n",
    "print(f'Sindicato (5%): R${desconto_sindicato:.2f}.')\n",
    "print(f'Salário Liquido: R${salario_liquido:.2f}.')"
   ]
  },
  {
   "cell_type": "markdown",
   "metadata": {},
   "source": [
    "[ 22 ] Faça um Programa que peça dois números e imprima o maior deles.  "
   ]
  },
  {
   "cell_type": "code",
   "execution_count": null,
   "metadata": {},
   "outputs": [],
   "source": [
    "#pedinr dois numeros \n",
    "\n",
    "a = int(input(\"Digite o primeiro número: \"))\n",
    "b = int(input(\"Digite o segundo número: \"))\n",
    "#calcular o maior numero\n",
    "if a > b:\n",
    "    maior = a\n",
    "else:\n",
    "    maior = b   \n",
    "#imprimir o resultado\n",
    "print(f'O maior número é {maior}.')"
   ]
  },
  {
   "cell_type": "markdown",
   "metadata": {},
   "source": [
    "[ 23 ] Faça um Programa que peça um valor e mostre na tela se o valor é positivo ou negativo.  "
   ]
  },
  {
   "cell_type": "code",
   "execution_count": null,
   "metadata": {},
   "outputs": [],
   "source": [
    "#pedir um valor\n",
    "\n",
    "valor = float(input(\"Digite um valor: \"))\n",
    "\n",
    "#calcular se o valor é positivo ou negativo e imprimir\n",
    "\n",
    "if valor > 0:\n",
    "    print(f'O valor {valor} é positivo.')\n",
    "else:\n",
    "    if valor < 0:\n",
    "        print(f'O valor {valor} é negativo.')\n",
    "    else:\n",
    "        print(f'O valor digitado foi zero')\n"
   ]
  },
  {
   "cell_type": "markdown",
   "metadata": {},
   "source": [
    "[ 24 ] Faça um Programa que verifique se uma letra digitada é \"F\" ou \"M\". Conforme a letra escrever: F - Feminino, M - Masculino, Sexo Inválido.  "
   ]
  },
  {
   "cell_type": "code",
   "execution_count": null,
   "metadata": {},
   "outputs": [],
   "source": [
    "#ler um letra digitada\n",
    "\n",
    "letra = str(input(\"Digite o gênero: F para feminino e M para masculino: \")).upper()\n",
    "\n",
    "#espcificar se foi f ou m\n",
    "\n",
    "if letra == 'F':\n",
    "    print(f'O gênero digitado foi feminino.')\n",
    "else:\n",
    "    if letra == 'M':\n",
    "        print(f'O gênero digitado foi masculino.')\n",
    "    else:\n",
    "        print(f'O gênero digitado é inválido.')\n"
   ]
  },
  {
   "cell_type": "markdown",
   "metadata": {},
   "source": [
    "[ 25 ] Faça um programa para a leitura de duas notas parciais de um aluno. O programa deve calcular a média alcançada por aluno e apresentar:  \n",
    "\n",
    "A mensagem \"Aprovado\", se a média alcançada for maior ou igual a sete;  \n",
    "\n",
    "A mensagem \"Reprovado\", se a média for menor do que sete;  \n",
    "\n",
    "A mensagem \"Aprovado com Distinção\", se a média for igual a dez. "
   ]
  },
  {
   "cell_type": "code",
   "execution_count": null,
   "metadata": {},
   "outputs": [],
   "source": [
    "#ler duas notas parciais do aluno\n",
    "\n",
    "nota1 = float(input(\"Digite a primeira nota: \"))\n",
    "nota2 = float(input(\"Digite a segunda nota: \"))\n",
    "\n",
    "#calcular a media\n",
    "\n",
    "media = (nota1 + nota2) / 2\n",
    "\n",
    "#apresentar a mensagem\n",
    "\n",
    "if media >= 7 and media < 10:\n",
    "    print('Aprovado')\n",
    "else:\n",
    "    if media == 10:\n",
    "        print('Aprovado com Distinção')\n",
    "    else:\n",
    "        print('Reprovado')\n"
   ]
  },
  {
   "cell_type": "markdown",
   "metadata": {},
   "source": [
    "[ 26 ] Faça um Programa que leia três números e mostre o maior deles."
   ]
  },
  {
   "cell_type": "code",
   "execution_count": null,
   "metadata": {},
   "outputs": [],
   "source": [
    "#ler tres numeros\n",
    "\n",
    "n1 = int(input(\"Digite o primeiro número: \"))\n",
    "n2 = int(input(\"Digite o segundo número: \"))\n",
    "n3 = int(input(\"Digite o terceiro número: \"))\n",
    "\n",
    "#calcular o maior numero \n",
    "\n",
    "maior = max(n1, n2, n3)\n",
    "#imprimir o resultado\n",
    "\n",
    "print(f'O maior número dos três digitados é o {maior}.')\n",
    "\n"
   ]
  },
  {
   "cell_type": "markdown",
   "metadata": {},
   "source": [
    "[ 27 ] Faça um programa que pergunte o preço de três produtos e informe qual produto você deve comprar, sabendo que a decisão é sempre pelo mais barato."
   ]
  },
  {
   "cell_type": "code",
   "execution_count": null,
   "metadata": {},
   "outputs": [],
   "source": [
    "#preço de tres produtos\n",
    "\n",
    "p1 = float(input(\"Digite o preço do primeiro produto: R$\"))\n",
    "p2 = float(input(\"Digite o preço do segundo produto: R$\"))\n",
    "p3 = float(input(\"Digite o preço do terceiro produto: R$\"))\n",
    "\n",
    "#calcular o menor preço\n",
    "\n",
    "menor = min(p1, p2, p3)\n",
    "\n",
    "#imprimir o resultado\n",
    "print(f'O mais aconselhado para a compra será o de R${menor:.2f}')"
   ]
  },
  {
   "cell_type": "markdown",
   "metadata": {},
   "source": [
    "[ 28 ] Faça um Programa que pergunte em que turno você estuda. Peça para digitar M-matutino ou V-Vespertino ou N- Noturno. Imprima a mensagem \"Bom Dia!\", \"Boa Tarde!\" ou \"Boa Noite!\" ou \"Valor Inválido!\", conforme o caso.  "
   ]
  },
  {
   "cell_type": "code",
   "execution_count": null,
   "metadata": {},
   "outputs": [],
   "source": [
    "#qual turno estuda \n",
    "\n",
    "turno = str(input(\"Qual o turno que você estuda? M para matutino ou V para vespertino ou N para noturno: \")).upper()\n",
    "\n",
    "#imprimir as condiçoes\n",
    "\n",
    "if turno == 'M':\n",
    "    print('Bom dia!')\n",
    "else:\n",
    "    if turno == 'V':\n",
    "        print('Boa tarde!')\n",
    "    else:\n",
    "        if turno == 'N':\n",
    "            print('Boa noite!')\n",
    "        else:\n",
    "            print('Valor Inválido!')\n",
    "            "
   ]
  },
  {
   "cell_type": "markdown",
   "metadata": {},
   "source": [
    "[ 29 ] As Organizações Tabajara resolveram dar um aumento de salário aos seus colaboradores e lhe contrataram para desenvolver o programa que calculará os reajustes. Faça um programa que recebe o salário de um colaborador e o reajuste segundo o seguinte critério, baseado no salário atual:  \n",
    "\n",
    "salários até R$ 280,00 (incluindo): aumento de 20%  \n",
    "\n",
    "salários entre R$ 280,00 e R$ 700,00: aumento de 15%  \n",
    "\n",
    "salários entre R$ 700,00 e R$ 1500,00: aumento de 10%  \n",
    "\n",
    "salários de R$ 1500,00 em diante: aumento de 5% Após o aumento ser realizado, informe na tela:  \n",
    "\n",
    "o salário antes do reajuste;  \n",
    "\n",
    "o percentual de aumento aplicado;  \n",
    "\n",
    "o valor do aumento;  \n",
    "\n",
    "o novo salário, após o aumento.  "
   ]
  },
  {
   "cell_type": "code",
   "execution_count": 12,
   "metadata": {},
   "outputs": [
    {
     "name": "stdout",
     "output_type": "stream",
     "text": [
      "O salário antes do reajuste é de R$1500.00.\n",
      "O percentual de aumento aplicado 5%.\n",
      "O valor do aumento é de R$75.00.\n",
      "O novo salário é de R$1575.00.\n"
     ]
    }
   ],
   "source": [
    "#receber o salario do colaborador \n",
    "\n",
    "salario = float(input(\"Digite o salário do colaborador: R$\"))\n",
    "\n",
    "#calcular o reajuste\n",
    "\n",
    "if salario != 0:\n",
    "    if salario <= 280:\n",
    "        aumento = salario * 0.20\n",
    "        porcentagem = 20\n",
    "    else:\n",
    "        if salario < 700:\n",
    "            aumento = salario * 0.15\n",
    "            porcentagem = 15\n",
    "        else :\n",
    "            if salario < 1500:\n",
    "                aumento = salario * 0.10\n",
    "                porcentagem = 10\n",
    "            else:\n",
    "                aumento = salario * 0.05\n",
    "                porcentagem = 5\n",
    "else:\n",
    "    print('Você não tem salário')\n",
    "    salario = 0\n",
    "    porcentagem = 0\n",
    "#imprimir o resultado\n",
    "\n",
    "print(f'O salário antes do reajuste é de R${salario:.2f}.')\n",
    "print(f'O percentual de aumento aplicado {porcentagem}%.')\n",
    "print(f'O valor do aumento é de R${aumento:.2f}.')\n",
    "print(f'O novo salário é de R${salario + aumento:.2f}.')"
   ]
  },
  {
   "cell_type": "markdown",
   "metadata": {},
   "source": [
    "[ 30 ]Faça um programa para o cálculo de uma folha de pagamento, sabendo que os descontos são do Imposto de Renda, que depende do salário bruto (conforme tabela abaixo) e 3% para o Sindicato e que o FGTS corresponde a 11% do Salário Bruto, mas não é descontado (é a empresa que deposita). O Salário Líquido corresponde ao Salário Bruto menos os descontos. O programa deverá pedir ao usuário o valor da sua hora e a quantidade de horas trabalhadas no mês.  \n",
    "--------------------------------------------------------------\n",
    "Desconto do IR:  \n",
    "\n",
    "Salário Bruto até 900 (inclusive) - isento  \n",
    "\n",
    "Salário Bruto até 1500 (inclusive) - desconto de 5%  \n",
    "\n",
    "Salário Bruto até 2500 (inclusive) - desconto de 10%  \n",
    "\n",
    "Salário Bruto acima de 2500 - desconto de 20% \n",
    "---------------------------------------------------------------\n",
    "Imprima na tela as informações, dispostas conforme o exemplo abaixo. No exemplo o valor da hora é 5 e a quantidade de hora é 220. \n",
    "\n",
    "Salário Bruto: (5 * 220)        : R$ 1100,00 \n",
    "\n",
    "(-) IR (5%)                     : R$   55,00   \n",
    "\n",
    "(-) INSS ( 10%)                 : R$  110,00 \n",
    "\n",
    "FGTS (11%)                      : R$  121,00 \n",
    "\n",
    "Total de descontos              : R$  165,00 \n",
    "\n",
    "Salário Liquido                 : R$  935,00 \n",
    "\n",
    " "
   ]
  },
  {
   "cell_type": "code",
   "execution_count": null,
   "metadata": {},
   "outputs": [],
   "source": [
    "#receber o valor da hora e a quantidade de horas\n",
    "\n",
    "valor_hora = float(input(\"Digite o valor da hora: \"))\n",
    "horas_trabalhadas = float(input(\"Digite a quantidade de horas trabalhadas no mês: \"))\n",
    "salario_bruto = valor_hora * horas_trabalhadas\n",
    "\n",
    "#calcular o desconto do importo de renda\n",
    "\n",
    "if salario_bruto <= 900:\n",
    "    desconto_ir = 0\n",
    "    desconto = 5\n",
    "else:\n",
    "    if salario_bruto <= 1500:\n",
    "        desconto_ir = salario_bruto * 0.05\n",
    "        desconto = 5\n",
    "    else:\n",
    "        if salario_bruto <= 2500:\n",
    "            desconto_ir = salario_bruto * 0.10\n",
    "            desconto = 10\n",
    "        else:\n",
    "            desconto_ir = salario_bruto * 0.20\n",
    "            desconto = 20\n",
    "            \n",
    "#desconto total\n",
    "\n",
    "desconto_inss = salario_bruto * 0.10\n",
    "desconto_fgts = salario_bruto * 0.11\n",
    "desconto_total = desconto_ir + desconto_inss\n",
    "\n",
    "#calcular o salario líquido\n",
    "\n",
    "salario_liquido = salario_bruto - desconto_total\n",
    "\n",
    "#imprimir o resultado\n",
    "\n",
    "print(f'Salário Bruto: ({valor_hora} * {horas_trabalhadas}): R${salario_bruto:.2f}')\n",
    "print(f'(-) IR ({desconto}%)                               : R${desconto_ir:.2f}')\n",
    "print(f'(-) INSS ( 10%)                                    : R${desconto_inss:.2f}')\n",
    "print(f'FGTS (11%)                                         : R${desconto_fgts:.2f}')\n",
    "print(f'Total de descontos                                 : R${desconto_total:.2f}')\n",
    "print(f'Salário Liquido                                    : R${salario_liquido:.2f}')"
   ]
  }
 ],
 "metadata": {
  "kernelspec": {
   "display_name": "Python 3",
   "language": "python",
   "name": "python3"
  },
  "language_info": {
   "codemirror_mode": {
    "name": "ipython",
    "version": 3
   },
   "file_extension": ".py",
   "mimetype": "text/x-python",
   "name": "python",
   "nbconvert_exporter": "python",
   "pygments_lexer": "ipython3",
   "version": "3.11.8"
  }
 },
 "nbformat": 4,
 "nbformat_minor": 2
}
