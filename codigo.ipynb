{
 "cells": [
  {
   "cell_type": "code",
   "execution_count": 11,
   "metadata": {},
   "outputs": [],
   "source": [
    "import time\n",
    "import math"
   ]
  },
  {
   "cell_type": "markdown",
   "metadata": {},
   "source": [
    "[ 1 ] Faça um Programa que peça um número e então mostre a mensagem: O número informado foi [ número ].  "
   ]
  },
  {
   "cell_type": "code",
   "execution_count": 4,
   "metadata": {},
   "outputs": [
    {
     "name": "stdout",
     "output_type": "stream",
     "text": [
      "O némero informado foi ....\n",
      "3\n"
     ]
    }
   ],
   "source": [
    "#pedir um numero\n",
    "numero = int(input(\"Digite um número: \"))\n",
    "#mostrar um mensagem com o número digitado\n",
    "print(\"O némero informado foi ....\")\n",
    "time.sleep(2)\n",
    "print(numero)"
   ]
  },
  {
   "cell_type": "markdown",
   "metadata": {},
   "source": [
    "[ 2 ] Faça um Programa que peça dois números e imprima a soma.  "
   ]
  },
  {
   "cell_type": "code",
   "execution_count": 7,
   "metadata": {},
   "outputs": [
    {
     "name": "stdout",
     "output_type": "stream",
     "text": [
      "A soma será 5\n"
     ]
    }
   ],
   "source": [
    "#peça dois números\n",
    "numero1 = int(input(\"Digite o primeiro número: \"))\n",
    "numero2 = int(input(\"Digite o segundo número: \"))\n",
    "#somar dois numeros\n",
    "soma = numero1 + numero2\n",
    "#imprimir a soma\n",
    "print(f\"A soma será {soma}\")"
   ]
  },
  {
   "cell_type": "markdown",
   "metadata": {},
   "source": [
    "[ 3 ] Faça um Programa que peça as 4 notas bimestrais e mostre a média.  "
   ]
  },
  {
   "cell_type": "code",
   "execution_count": 9,
   "metadata": {},
   "outputs": [
    {
     "name": "stdout",
     "output_type": "stream",
     "text": [
      "A média será 6.3\n"
     ]
    }
   ],
   "source": [
    "#pedir as 4 notas bimestrais \n",
    "\n",
    "nota1 = float(input(\"Digite a primeira nota: \"))\n",
    "nota2 = float(input(\"Digite a segunda nota: \"))\n",
    "nota3 = float(input(\"Digite a terceira nota: \"))\n",
    "nota4 = float(input(\"Digite a quarta nota: \"))\n",
    "#calcular a média \n",
    "\n",
    "media = (nota1 + nota2 + nota3 + nota4) / 4\n",
    "\n",
    "#imprimir a média\n",
    "\n",
    "print(f\"A média será {media:.1f}\")\n",
    "\n"
   ]
  },
  {
   "cell_type": "markdown",
   "metadata": {},
   "source": [
    "[ 4 ] Faça um Programa que converta metros para centímetros.  "
   ]
  },
  {
   "cell_type": "code",
   "execution_count": 10,
   "metadata": {},
   "outputs": [
    {
     "name": "stdout",
     "output_type": "stream",
     "text": [
      "O número em centímetros é 450.0\n"
     ]
    }
   ],
   "source": [
    "\n",
    "# receber um número em metros \n",
    "metros = float(input(\"Digite um número em metros: \"))\n",
    "#converta metros para centímetros\n",
    "centimetros = metros * 100\n",
    "#imprimir o resultado\n",
    "print(f\"O número em centímetros é {centimetros:.1f}\")\n"
   ]
  },
  {
   "cell_type": "markdown",
   "metadata": {},
   "source": [
    "[ 5 ] Faça um Programa que peça o raio de um círculo, calcule e mostre sua área."
   ]
  },
  {
   "cell_type": "code",
   "execution_count": 13,
   "metadata": {},
   "outputs": [
    {
     "name": "stdout",
     "output_type": "stream",
     "text": [
      "A área do círculo é 12.6\n"
     ]
    }
   ],
   "source": [
    "#pedir o raio de um círculo\n",
    "raio = float(input(\"Digite o raio do círculo: \"))\n",
    "#calcular a área do círculo\n",
    "area = math.pi * (raio ** 2)\n",
    "#imprimir o resultado\n",
    "print(f'A área do círculo é {area:.1f}')\n"
   ]
  },
  {
   "cell_type": "markdown",
   "metadata": {},
   "source": [
    "[ 6 ] Faça um Programa que calcule a área de um quadrado, em seguida mostre o dobro desta área para o usuário.   "
   ]
  },
  {
   "cell_type": "code",
   "execution_count": 14,
   "metadata": {},
   "outputs": [
    {
     "name": "stdout",
     "output_type": "stream",
     "text": [
      "A área do quadrado é 4.0\n",
      "O dobro da área é 8.0\n"
     ]
    }
   ],
   "source": [
    "#receber o lado do quadrado\n",
    "\n",
    "lado = int(input(\"Digite o lado do quadrado: \"))\n",
    "#calcular a área do quadrado\n",
    "\n",
    "area = lado ** 2\n",
    "dobro_area = area * 2\n",
    "\n",
    "#imprimir o resultado\n",
    "\n",
    "print(f'A área do quadrado é {area:.1f}')\n",
    "print(f'O dobro da área é {dobro_area:.1f}')"
   ]
  },
  {
   "cell_type": "markdown",
   "metadata": {},
   "source": [
    "[ 7 ] Faça um Programa que pergunte quanto você ganha por hora e o número de horas trabalhadas no mês. Calcule e mostre o total do seu salário no referido mês. "
   ]
  },
  {
   "cell_type": "code",
   "execution_count": 16,
   "metadata": {},
   "outputs": [
    {
     "name": "stdout",
     "output_type": "stream",
     "text": [
      "O salário do mês é de R$1000.00\n"
     ]
    }
   ],
   "source": [
    "#pergunta quanto ganha por hora e o numero de horas trabalhadas no mês\n",
    "\n",
    "salario_horas = float(input(\"Digite o quanto você ganha por hora trabalhada:\"))\n",
    "horas_mes = float(input(\"Digite a quantidade de horas trabalhadas no mês: \"))\n",
    "\n",
    "#calcular\n",
    "\n",
    "salario_mes = salario_horas * horas_mes\n",
    "\n",
    "#imprimir o resultado \n",
    "\n",
    "print(f'O salário do mês é de R${salario_mes:.2f}')"
   ]
  },
  {
   "cell_type": "markdown",
   "metadata": {},
   "source": [
    "[ 8 ] Faça um Programa que peça a temperatura em graus Farenheit, transforme e mostre a temperatura em graus Celsius. C = (5 * (F-32) / 9).  "
   ]
  },
  {
   "cell_type": "code",
   "execution_count": 28,
   "metadata": {},
   "outputs": [
    {
     "name": "stdout",
     "output_type": "stream",
     "text": [
      "A temperatura em Celsius é de 27\n"
     ]
    }
   ],
   "source": [
    "#pedir a temperatura em Farenheit\n",
    "\n",
    "temperatura_farenheit = float(input(\"Digite a temperatura em Farenheit: \"))\n",
    "\n",
    "#calcular a temperatura em Celsius\n",
    "\n",
    "temperatura_celsius = (5 * (temperatura_farenheit - 32) / 9)\n",
    "arredondado_c = round(temperatura_celsius)\n",
    "\n",
    "#imprimir o resultado\n",
    "\n",
    "print(f'A temperatura em Celsius é de {arredondado_c:.0f}')"
   ]
  },
  {
   "cell_type": "markdown",
   "metadata": {},
   "source": [
    "[ 9 ] Faça um Programa que peça a temperatura em graus Celsius, transforme e mostre em graus Farenheit.  "
   ]
  },
  {
   "cell_type": "code",
   "execution_count": 27,
   "metadata": {},
   "outputs": [
    {
     "name": "stdout",
     "output_type": "stream",
     "text": [
      "A temperatura em Farenheit é de 81\n"
     ]
    }
   ],
   "source": [
    "#pedir a temperatura em celsius\n",
    "\n",
    "temperatura_celsius = float(input(\"Digite a temperatura em Celsius: \"))\n",
    "\n",
    "#calcular a temperatura em Farenheit\n",
    "\n",
    "temperatura_farenheit = (temperatura_celsius * 9) / 5 + 32\n",
    "arredondado_f = round(temperatura_farenheit)\n",
    "\n",
    "#imprimir o resultado\n",
    "\n",
    "print(f'A temperatura em Farenheit é de {arredondado_f:.0f}')"
   ]
  },
  {
   "cell_type": "markdown",
   "metadata": {},
   "source": [
    "[ 10 ] Elaborar um algoritmo que efetue a apresentação do valor da conversão em real (R$) de um valor lido em dólar (US$). O algoritmo deverá solicitar o valor da cotação do dólar e também a quantidade de dólares disponíveis com o usuário. "
   ]
  },
  {
   "cell_type": "code",
   "execution_count": 30,
   "metadata": {},
   "outputs": [
    {
     "name": "stdout",
     "output_type": "stream",
     "text": [
      "O valor da conversão é de R$149.40\n"
     ]
    }
   ],
   "source": [
    "#ler o dolar\n",
    "\n",
    "dolar = float(input(\"Qual a cotação do dólar atualmente: \"))\n",
    "quatidade = float(input(\"Qual a quantidade de dólares disponíveis com você: \"))\n",
    "\n",
    "#conversão \n",
    "\n",
    "real = dolar * quatidade\n",
    "\n",
    "#imprimir o resultado\n",
    "\n",
    "print(f'O valor da conversão é de R${real:.2f}')\n"
   ]
  },
  {
   "cell_type": "markdown",
   "metadata": {},
   "source": [
    "[ 11 ]Faça um algoritmo que receba um valor que foi depositado e exiba o valor com rendimento após um mês. Considere fixo o juro da poupança em 0,70% a. m. "
   ]
  },
  {
   "cell_type": "code",
   "execution_count": 34,
   "metadata": {},
   "outputs": [
    {
     "name": "stdout",
     "output_type": "stream",
     "text": [
      "O rendimento foi de 7.00, possuindo um saldo agora de 1007.50\n"
     ]
    }
   ],
   "source": [
    "#valor depositado \n",
    "\n",
    "valor_depositado = float(input(\"Digite o valor depositado: \"))\n",
    "\n",
    "#calcular o rendimento\n",
    "rendimento = (valor_depositado * (0.70/100))\n",
    "\n",
    "novo_valor = valor_depositado + (valor_depositado * (0.70/100))\n",
    "\n",
    "#imprimir o resultado\n",
    "\n",
    "print(f'O rendimento foi de {rendimento:.2f}, possuindo um saldo agora de {novo_valor:.2f}')"
   ]
  },
  {
   "cell_type": "code",
   "execution_count": null,
   "metadata": {},
   "outputs": [],
   "source": [
    "[ 12 ] A Loja Mamão com Açúcar está vendendo seus produtos em 5 (cinco) prestações sem juros. Faça um algoritmo que receba um valor de uma compra e mostre o valor das prestações. "
   ]
  },
  {
   "cell_type": "code",
   "execution_count": 35,
   "metadata": {},
   "outputs": [
    {
     "name": "stdout",
     "output_type": "stream",
     "text": [
      "O valor das prestações é de 2.04\n"
     ]
    }
   ],
   "source": [
    "#valor de compra \n",
    "\n",
    "valor_compra = float(input(\"Digite o valor da compra: \"))\n",
    "\n",
    "#calcular o valor das prestações\n",
    "\n",
    "valor_prestacao = valor_compra / 5\n",
    "\n",
    "#imprimir o resultado\n",
    "\n",
    "print(f'O valor das prestações é de {valor_prestacao:.2f}')"
   ]
  },
  {
   "cell_type": "markdown",
   "metadata": {},
   "source": [
    "[ 13 ] Faça um algoritmo que receba o preço de custo de um produto e mostre o valor de venda. Sabe-se que o preço de custo receberá um acréscimo de acordo com um percentual informado pelo usuário. "
   ]
  },
  {
   "cell_type": "code",
   "execution_count": 37,
   "metadata": {},
   "outputs": [
    {
     "name": "stdout",
     "output_type": "stream",
     "text": [
      "O preço de venda é R$126.00.\n"
     ]
    }
   ],
   "source": [
    "# recebendo o preço de custo do produto\n",
    "preco_de_custo = float(input(\"Digite o preço de custo do produto: \"))\n",
    "\n",
    "# solicita o percentual de aumento\n",
    "percentual_aumento = float(input(\"Digite o percentual de aumento: \"))\n",
    "\n",
    "# calcula o aumento\n",
    "aumento = preco_de_custo * (percentual_aumento / 100)\n",
    "\n",
    "# calcula o preço de venda\n",
    "preco_de_venda = preco_de_custo + aumento\n",
    "\n",
    "# exibe o preço de venda\n",
    "print(f\"O preço de venda é R${preco_de_venda:.2f}.\")"
   ]
  },
  {
   "cell_type": "markdown",
   "metadata": {},
   "source": [
    "[ 14 ]Escrever um algoritmo para determinar o consumo médio de um automóvel sendo fornecida a distância total percorrida pelo automóvel e o total de combustível gasto."
   ]
  },
  {
   "cell_type": "code",
   "execution_count": null,
   "metadata": {},
   "outputs": [],
   "source": [
    "#total de distancia pecorrida \n",
    "\n",
    "distancia_total = float(input(\"Digite a distância total percorrida pelo automóvel: \"))\n",
    "\n",
    "#total de combustível gasto \n",
    "\n",
    "combustivel_gasto = float(input(\"Digite o total de combustível gasto: \"))\n",
    "\n",
    "#calcular o consumo médio\n",
    "\n",
    "consumo_media = distancia_total / combustivel_gasto\n",
    "\n",
    "#imprimir o resultado\n",
    "\n",
    "print(f'O consumo médio é de {consumo_media:.2f} litros de combustível.')\n",
    "\n"
   ]
  }
 ],
 "metadata": {
  "kernelspec": {
   "display_name": "Python 3",
   "language": "python",
   "name": "python3"
  },
  "language_info": {
   "codemirror_mode": {
    "name": "ipython",
    "version": 3
   },
   "file_extension": ".py",
   "mimetype": "text/x-python",
   "name": "python",
   "nbconvert_exporter": "python",
   "pygments_lexer": "ipython3",
   "version": "3.11.8"
  }
 },
 "nbformat": 4,
 "nbformat_minor": 2
}
