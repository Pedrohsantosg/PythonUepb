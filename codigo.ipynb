{
 "cells": [
  {
   "cell_type": "code",
   "execution_count": 11,
   "metadata": {},
   "outputs": [],
   "source": [
    "import time\n",
    "import math\n"
   ]
  },
  {
   "cell_type": "markdown",
   "metadata": {},
   "source": [
    "[ 1 ] Faça um Programa que peça um número e então mostre a mensagem: O número informado foi [ número ].  "
   ]
  },
  {
   "cell_type": "code",
   "execution_count": null,
   "metadata": {},
   "outputs": [],
   "source": [
    "#pedir um numero\n",
    "numero = int(input(\"Digite um número: \"))\n",
    "#mostrar um mensagem com o número digitado\n",
    "print(\"O némero informado foi ....\")\n",
    "time.sleep(2)\n",
    "print(numero)"
   ]
  },
  {
   "cell_type": "markdown",
   "metadata": {},
   "source": [
    "[ 2 ] Faça um Programa que peça dois números e imprima a soma.  "
   ]
  },
  {
   "cell_type": "code",
   "execution_count": null,
   "metadata": {},
   "outputs": [],
   "source": [
    "#peça dois números\n",
    "numero1 = int(input(\"Digite o primeiro número: \"))\n",
    "numero2 = int(input(\"Digite o segundo número: \"))\n",
    "#somar dois numeros\n",
    "soma = numero1 + numero2\n",
    "#imprimir a soma\n",
    "print(f\"A soma será {soma}\")"
   ]
  },
  {
   "cell_type": "markdown",
   "metadata": {},
   "source": [
    "[ 3 ] Faça um Programa que peça as 4 notas bimestrais e mostre a média.  "
   ]
  },
  {
   "cell_type": "code",
   "execution_count": null,
   "metadata": {},
   "outputs": [],
   "source": [
    "#pedir as 4 notas bimestrais \n",
    "\n",
    "nota1 = float(input(\"Digite a primeira nota: \"))\n",
    "nota2 = float(input(\"Digite a segunda nota: \"))\n",
    "nota3 = float(input(\"Digite a terceira nota: \"))\n",
    "nota4 = float(input(\"Digite a quarta nota: \"))\n",
    "#calcular a média \n",
    "\n",
    "media = (nota1 + nota2 + nota3 + nota4) / 4\n",
    "\n",
    "#imprimir a média\n",
    "\n",
    "print(f\"A média será {media:.1f}\")\n",
    "\n"
   ]
  },
  {
   "cell_type": "markdown",
   "metadata": {},
   "source": [
    "[ 4 ] Faça um Programa que converta metros para centímetros.  "
   ]
  },
  {
   "cell_type": "code",
   "execution_count": null,
   "metadata": {},
   "outputs": [],
   "source": [
    "\n",
    "# receber um número em metros \n",
    "metros = float(input(\"Digite um número em metros: \"))\n",
    "#converta metros para centímetros\n",
    "centimetros = metros * 100\n",
    "#imprimir o resultado\n",
    "print(f\"O número em centímetros é {centimetros:.1f}\")\n"
   ]
  },
  {
   "cell_type": "markdown",
   "metadata": {},
   "source": [
    "[ 5 ] Faça um Programa que peça o raio de um círculo, calcule e mostre sua área."
   ]
  },
  {
   "cell_type": "code",
   "execution_count": null,
   "metadata": {},
   "outputs": [],
   "source": [
    "#pedir o raio de um círculo\n",
    "raio = float(input(\"Digite o raio do círculo: \"))\n",
    "#calcular a área do círculo\n",
    "area = math.pi * (raio ** 2)\n",
    "#imprimir o resultado\n",
    "print(f'A área do círculo é {area:.1f}')\n"
   ]
  },
  {
   "cell_type": "markdown",
   "metadata": {},
   "source": [
    "[ 6 ] Faça um Programa que calcule a área de um quadrado, em seguida mostre o dobro desta área para o usuário.   "
   ]
  },
  {
   "cell_type": "code",
   "execution_count": null,
   "metadata": {},
   "outputs": [],
   "source": [
    "#receber o lado do quadrado\n",
    "\n",
    "lado = int(input(\"Digite o lado do quadrado: \"))\n",
    "#calcular a área do quadrado\n",
    "\n",
    "area = lado ** 2\n",
    "dobro_area = area * 2\n",
    "\n",
    "#imprimir o resultado\n",
    "\n",
    "print(f'A área do quadrado é {area:.1f}')\n",
    "print(f'O dobro da área é {dobro_area:.1f}')"
   ]
  },
  {
   "cell_type": "markdown",
   "metadata": {},
   "source": [
    "[ 7 ] Faça um Programa que pergunte quanto você ganha por hora e o número de horas trabalhadas no mês. Calcule e mostre o total do seu salário no referido mês. "
   ]
  },
  {
   "cell_type": "code",
   "execution_count": null,
   "metadata": {},
   "outputs": [],
   "source": [
    "#pergunta quanto ganha por hora e o numero de horas trabalhadas no mês\n",
    "\n",
    "salario_horas = float(input(\"Digite o quanto você ganha por hora trabalhada:\"))\n",
    "horas_mes = float(input(\"Digite a quantidade de horas trabalhadas no mês: \"))\n",
    "\n",
    "#calcular\n",
    "\n",
    "salario_mes = salario_horas * horas_mes\n",
    "\n",
    "#imprimir o resultado \n",
    "\n",
    "print(f'O salário do mês é de R${salario_mes:.2f}')"
   ]
  },
  {
   "cell_type": "markdown",
   "metadata": {},
   "source": [
    "[ 8 ] Faça um Programa que peça a temperatura em graus Farenheit, transforme e mostre a temperatura em graus Celsius. C = (5 * (F-32) / 9).  "
   ]
  },
  {
   "cell_type": "code",
   "execution_count": null,
   "metadata": {},
   "outputs": [],
   "source": [
    "#pedir a temperatura em Farenheit\n",
    "\n",
    "temperatura_farenheit = float(input(\"Digite a temperatura em Farenheit: \"))\n",
    "\n",
    "#calcular a temperatura em Celsius\n",
    "\n",
    "temperatura_celsius = (5 * (temperatura_farenheit - 32) / 9)\n",
    "arredondado_c = round(temperatura_celsius)\n",
    "\n",
    "#imprimir o resultado\n",
    "\n",
    "print(f'A temperatura em Celsius é de {arredondado_c:.0f}')"
   ]
  },
  {
   "cell_type": "markdown",
   "metadata": {},
   "source": [
    "[ 9 ] Faça um Programa que peça a temperatura em graus Celsius, transforme e mostre em graus Farenheit.  "
   ]
  },
  {
   "cell_type": "code",
   "execution_count": null,
   "metadata": {},
   "outputs": [],
   "source": [
    "#pedir a temperatura em celsius\n",
    "\n",
    "temperatura_celsius = float(input(\"Digite a temperatura em Celsius: \"))\n",
    "\n",
    "#calcular a temperatura em Farenheit\n",
    "\n",
    "temperatura_farenheit = (temperatura_celsius * 9) / 5 + 32\n",
    "arredondado_f = round(temperatura_farenheit)\n",
    "\n",
    "#imprimir o resultado\n",
    "\n",
    "print(f'A temperatura em Farenheit é de {arredondado_f:.0f}')"
   ]
  },
  {
   "cell_type": "markdown",
   "metadata": {},
   "source": [
    "[ 10 ] Elaborar um algoritmo que efetue a apresentação do valor da conversão em real (R$) de um valor lido em dólar (US$). O algoritmo deverá solicitar o valor da cotação do dólar e também a quantidade de dólares disponíveis com o usuário. "
   ]
  },
  {
   "cell_type": "code",
   "execution_count": null,
   "metadata": {},
   "outputs": [],
   "source": [
    "#ler o dolar\n",
    "\n",
    "dolar = float(input(\"Qual a cotação do dólar atualmente: \"))\n",
    "quatidade = float(input(\"Qual a quantidade de dólares disponíveis com você: \"))\n",
    "\n",
    "#conversão \n",
    "\n",
    "real = dolar * quatidade\n",
    "\n",
    "#imprimir o resultado\n",
    "\n",
    "print(f'O valor da conversão é de R${real:.2f}')\n"
   ]
  },
  {
   "cell_type": "markdown",
   "metadata": {},
   "source": [
    "[ 11 ]Faça um algoritmo que receba um valor que foi depositado e exiba o valor com rendimento após um mês. Considere fixo o juro da poupança em 0,70% a. m. "
   ]
  },
  {
   "cell_type": "code",
   "execution_count": null,
   "metadata": {},
   "outputs": [],
   "source": [
    "#valor depositado \n",
    "\n",
    "valor_depositado = float(input(\"Digite o valor depositado: \"))\n",
    "\n",
    "#calcular o rendimento\n",
    "rendimento = (valor_depositado * (0.70/100))\n",
    "\n",
    "novo_valor = valor_depositado + (valor_depositado * (0.70/100))\n",
    "\n",
    "#imprimir o resultado\n",
    "\n",
    "print(f'O rendimento foi de {rendimento:.2f}, possuindo um saldo agora de {novo_valor:.2f}')"
   ]
  },
  {
   "cell_type": "code",
   "execution_count": null,
   "metadata": {},
   "outputs": [],
   "source": [
    "[ 12 ] A Loja Mamão com Açúcar está vendendo seus produtos em 5 (cinco) prestações sem juros. Faça um algoritmo que receba um valor de uma compra e mostre o valor das prestações. "
   ]
  },
  {
   "cell_type": "code",
   "execution_count": null,
   "metadata": {},
   "outputs": [],
   "source": [
    "#valor de compra \n",
    "\n",
    "valor_compra = float(input(\"Digite o valor da compra: \"))\n",
    "\n",
    "#calcular o valor das prestações\n",
    "\n",
    "valor_prestacao = valor_compra / 5\n",
    "\n",
    "#imprimir o resultado\n",
    "\n",
    "print(f'O valor das prestações é de {valor_prestacao:.2f}')"
   ]
  },
  {
   "cell_type": "markdown",
   "metadata": {},
   "source": [
    "[ 13 ] Faça um algoritmo que receba o preço de custo de um produto e mostre o valor de venda. Sabe-se que o preço de custo receberá um acréscimo de acordo com um percentual informado pelo usuário. "
   ]
  },
  {
   "cell_type": "code",
   "execution_count": null,
   "metadata": {},
   "outputs": [],
   "source": [
    "# recebendo o preço de custo do produto\n",
    "preco_de_custo = float(input(\"Digite o preço de custo do produto: \"))\n",
    "\n",
    "# solicita o percentual de aumento\n",
    "percentual_aumento = float(input(\"Digite o percentual de aumento: \"))\n",
    "\n",
    "# calcula o aumento\n",
    "aumento = preco_de_custo * (percentual_aumento / 100)\n",
    "\n",
    "# calcula o preço de venda\n",
    "preco_de_venda = preco_de_custo + aumento\n",
    "\n",
    "# exibe o preço de venda\n",
    "print(f\"O preço de venda é R${preco_de_venda:.2f}.\")"
   ]
  },
  {
   "cell_type": "markdown",
   "metadata": {},
   "source": [
    "[ 14 ]Escrever um algoritmo para determinar o consumo médio de um automóvel sendo fornecida a distância total percorrida pelo automóvel e o total de combustível gasto."
   ]
  },
  {
   "cell_type": "code",
   "execution_count": null,
   "metadata": {},
   "outputs": [],
   "source": [
    "#total de distancia pecorrida \n",
    "\n",
    "distancia_total = float(input(\"Digite a distância total percorrida pelo automóvel: \"))\n",
    "\n",
    "#total de combustível gasto \n",
    "\n",
    "combustivel_gasto = float(input(\"Digite o total de combustível gasto: \"))\n",
    "\n",
    "#calcular o consumo médio\n",
    "\n",
    "consumo_media = distancia_total / combustivel_gasto\n",
    "\n",
    "#imprimir o resultado\n",
    "\n",
    "print(f'O consumo médio é de {consumo_media:.2f} litros de combustível.')\n",
    "\n"
   ]
  },
  {
   "cell_type": "markdown",
   "metadata": {},
   "source": [
    "[ 15 ] Escreva um programa que leia três números inteiros e positivos (A, B, C) e calcule a seguinte expressão:  D = (r + s)/2, onde [r = (a + b)**2] , [s = (b + c)elevado ao quadrado]"
   ]
  },
  {
   "cell_type": "code",
   "execution_count": null,
   "metadata": {},
   "outputs": [],
   "source": [
    "#ler os tres numeros\n",
    "\n",
    "a = int(input(\"Digite o primeiro número: \"))\n",
    "b = int(input(\"Digite o segundo número: \"))\n",
    "c = int(input(\"Digite o terceiro número: \"))\n",
    "\n",
    "#calcular a expressão\n",
    "r = (a + b)**2\n",
    "s = (b + c)**2\n",
    "\n",
    "d = (r + s) / 2\n",
    "\n",
    "#imprimir o resultado\n",
    "\n",
    "print(f'A expressão é D = {d:.1f}.')\n"
   ]
  },
  {
   "cell_type": "markdown",
   "metadata": {},
   "source": [
    "[ 16 ]Escrever um algoritmo que leia o nome de um vendedor, o seu salário fixo e o total de vendas efetuadas por ele no mês (em dinheiro). Sabendo que este vendedor ganha 15% de comissão sobre suas vendas efetuadas, informar o seu nome, o salário fixo e salário no final do mês. "
   ]
  },
  {
   "cell_type": "code",
   "execution_count": null,
   "metadata": {},
   "outputs": [],
   "source": [
    "#ler o nome do vendendor, salario fixo, total de vendas efetuadas por ele no mês \n",
    "\n",
    "vendedor = str(input(\"Digite o nome do vendedor: \"))\n",
    "salario_fixo = float(input(\"Digite o salário fixo: \"))\n",
    "total_vendas = float(input(\"Digite o total de vendas efetuadas por ele no mês: \"))\n",
    "\n",
    "#calcular o salário no final do mês \n",
    "\n",
    "comissao = (15/100)*total_vendas\n",
    "salario_novo = comissao + salario_fixo \n",
    "\n",
    "#imprimir o resultado\n",
    "\n",
    "print(f'O nome do vendedor é {vendedor}, o salário fixo é de {salario_fixo:.2f} e o salário no final do mês é de {salario_novo:.2f}.')\n"
   ]
  },
  {
   "cell_type": "markdown",
   "metadata": {},
   "source": [
    "[ 17 ]Faça um Programa que peça 2 números inteiros e um número real. Calcule e mostre:  \n",
    "\n",
    ". o produto do dobro do primeiro com metade do segundo .  \n",
    "\n",
    ". a soma do triplo do primeiro com o terceiro.      \n",
    "\n",
    ". o terceiro elevado ao cubo.  "
   ]
  },
  {
   "cell_type": "code",
   "execution_count": null,
   "metadata": {},
   "outputs": [],
   "source": [
    "#pedir dois números interiros e um numero real\n",
    "\n",
    "a = int(input(\"Digite o primeiro número: \"))\n",
    "b = int(input(\"Digite o segundo número: \"))\n",
    "c = float(input(\"Digite o terceiro número: \"))\n",
    "\n",
    "#calcular o produto do dobro do primeiro com metade do segundo\n",
    "\n",
    "calulo1 = (a*2)*(b/2)\n",
    "\n",
    "#soma do triplo do primeiro com o terceiro\n",
    "\n",
    "calculo2 = (3*a)+ c\n",
    "\n",
    "#calcular o terceiro elevado ao cubo\n",
    "\n",
    "calculo3 = c**3\n",
    "\n",
    "#imprimir o resultado\n",
    "\n",
    "print(f'O produto do dobro do primeiro com metade do segundo é de {calulo1:.2f}.')\n",
    "print(f'A soma do triplo do primeiro com o terceiro é de {calculo2:.2f}.')\n",
    "print(f'O terceiro elevado ao cubo é de {calculo3:.2f}.')\n"
   ]
  },
  {
   "cell_type": "markdown",
   "metadata": {},
   "source": [
    "[ 18 ]Tendo como dados de entrada a altura de uma pessoa, construa um algoritmo que calcule seu peso ideal, usando a seguinte fórmula: (72.7*altura) – 58. "
   ]
  },
  {
   "cell_type": "code",
   "execution_count": null,
   "metadata": {},
   "outputs": [],
   "source": [
    "#altura de uma pessoa \n",
    "\n",
    "altura = float(input(\"Digite a altura da pessoa: \"))\n",
    "\n",
    "#calcular o peso ideal\n",
    "\n",
    "peso_ideal = (72.7*altura) - 58\n",
    "\n",
    "#imprimir o resultado\n",
    "\n",
    "print(f'O peso ideal é de {peso_ideal:.2f} Kg.')\n"
   ]
  },
  {
   "cell_type": "markdown",
   "metadata": {},
   "source": [
    "[ 19 ]Faça um programa que peça o tamanho de um arquivo para download (em MB) e a velocidade de um link de Internet (em MBps), calcule e informe o tempo aproximado de download do arquivo usando este link (em minutos). "
   ]
  },
  {
   "cell_type": "code",
   "execution_count": null,
   "metadata": {},
   "outputs": [],
   "source": [
    "#pedir o tamanho do arquivo para dowload , velociade de um link\n",
    "\n",
    "tamanho_arquivo = float(input(\"Digite o tamanho do arquivo para download: \"))\n",
    "velocidade = float(input(\"Digite a velocidade de um link de Internet: \"))\n",
    "\n",
    "#calculo do tempo\n",
    "\n",
    "tempo = tamanho_arquivo / (velocidade * 60)\n",
    "\n",
    "#imprimir o tempo em minutos\n",
    "\n",
    "print(f'O tempo aproximado de download do arquivo usando este link é de {tempo:.2f} minutos.')\n",
    "\n"
   ]
  },
  {
   "cell_type": "markdown",
   "metadata": {},
   "source": [
    "[ 20 ]Ler dois valores para as variáveis A e B, e efetuar as trocas dos valores de forma que a variável A passe a possuir o valor da variável B e a variável B passe a possuir o valor da variável A. Apresentar os valores trocados. "
   ]
  },
  {
   "cell_type": "code",
   "execution_count": null,
   "metadata": {},
   "outputs": [],
   "source": [
    "#ler a e b\n",
    "\n",
    "a = int(input(\"Digite a: \"))\n",
    "b = int(input(\"Digite b: \"))\n",
    "\n",
    "#efetuar a troca\n",
    "\n",
    "c = a\n",
    "a = b\n",
    "b = c\n",
    "\n",
    "#imprimir o resultado\n",
    "\n",
    "print(f'Os valores trocados são {a} e {b}.')\n"
   ]
  },
  {
   "cell_type": "markdown",
   "metadata": {},
   "source": [
    "[ 21 ]Faça um Programa que pergunte quanto você ganha por hora e o número de horas trabalhadas no mês. Calcule e mostre o total do seu salário no referido mês, sabendo-se que são descontados 11% para o Imposto de Renda, 8% para o INSS e 5% para o sindicato, faça um programa que nos dê:  \n",
    "\n",
    ". salário bruto.  \n",
    "\n",
    ". quanto pagou ao INSS.  \n",
    "\n",
    ". quanto pagou ao sindicato.  \n",
    "\n",
    ". o salário líquido.  \n",
    "\n",
    ". calcule os descontos e o salário líquido, conforme a tabela abaixo: \n",
    "\n",
    "Salário Bruto : R$ \n",
    "\n",
    "IR (11%) : R$ \n",
    "\n",
    "INSS (8%) : R$ \n",
    "\n",
    "Sindicato ( 5%) : R$ \n",
    "\n",
    "Salário Liquido : R$ \n",
    "\n",
    "Obs.: Salário Bruto - Descontos = Salário Líquido. "
   ]
  },
  {
   "cell_type": "code",
   "execution_count": null,
   "metadata": {},
   "outputs": [],
   "source": [
    "#quanto ganha por hora, numero de horas trabalhadas por mes\n",
    "\n",
    "salario_hora = float(input(\"Digite quanto ganha por hora: \"))\n",
    "horas_trabalhadas = float(input(\"Digite o numero de horas trabalhadas por mês: \"))\n",
    "\n",
    "#calcular o total do salario \n",
    "\n",
    "salario_total = salario_hora * horas_trabalhadas\n",
    "\n",
    "#descontos do importo de renda, inss, sindicato\n",
    "\n",
    "desconto_renda = (salario_hora * (11 / 100))\n",
    "desconto_inss = (salario_hora * (8 / 100))\n",
    "desconto_sindicato = (salario_hora * (5 / 100))\n",
    "desconto_total = desconto_inss + desconto_sindicato + desconto_renda\n",
    "\n",
    "#calcular o salario líquido\n",
    "\n",
    "salario_liquido = salario_total - desconto_total\n",
    "\n",
    "#imprimir o resultado\n",
    "\n",
    "print(f'Salário Bruto: R${salario_total:.2f}.')\n",
    "print(f'IR (11%): R$ {desconto_renda:.2f}.')\n",
    "print(f'INSS (8%): R${desconto_inss:.2f}.')\n",
    "print(f'Sindicato (5%): R${desconto_sindicato:.2f}.')\n",
    "print(f'Salário Liquido: R${salario_liquido:.2f}.')"
   ]
  },
  {
   "cell_type": "markdown",
   "metadata": {},
   "source": [
    "[ 22 ] Faça um Programa que peça dois números e imprima o maior deles.  "
   ]
  },
  {
   "cell_type": "code",
   "execution_count": null,
   "metadata": {},
   "outputs": [],
   "source": [
    "#pedinr dois numeros \n",
    "\n",
    "a = int(input(\"Digite o primeiro número: \"))\n",
    "b = int(input(\"Digite o segundo número: \"))\n",
    "#calcular o maior numero\n",
    "if a > b:\n",
    "    maior = a\n",
    "else:\n",
    "    maior = b   \n",
    "#imprimir o resultado\n",
    "print(f'O maior número é {maior}.')"
   ]
  },
  {
   "cell_type": "markdown",
   "metadata": {},
   "source": [
    "[ 23 ] Faça um Programa que peça um valor e mostre na tela se o valor é positivo ou negativo.  "
   ]
  },
  {
   "cell_type": "code",
   "execution_count": null,
   "metadata": {},
   "outputs": [],
   "source": [
    "#pedir um valor\n",
    "\n",
    "valor = float(input(\"Digite um valor: \"))\n",
    "\n",
    "#calcular se o valor é positivo ou negativo e imprimir\n",
    "\n",
    "if valor > 0:\n",
    "    print(f'O valor {valor} é positivo.')\n",
    "else:\n",
    "    if valor < 0:\n",
    "        print(f'O valor {valor} é negativo.')\n",
    "    else:\n",
    "        print(f'O valor digitado foi zero')\n"
   ]
  },
  {
   "cell_type": "markdown",
   "metadata": {},
   "source": [
    "[ 24 ] Faça um Programa que verifique se uma letra digitada é \"F\" ou \"M\". Conforme a letra escrever: F - Feminino, M - Masculino, Sexo Inválido.  "
   ]
  },
  {
   "cell_type": "code",
   "execution_count": null,
   "metadata": {},
   "outputs": [],
   "source": [
    "#ler um letra digitada\n",
    "\n",
    "letra = str(input(\"Digite o gênero: F para feminino e M para masculino: \")).upper()\n",
    "\n",
    "#espcificar se foi f ou m\n",
    "\n",
    "if letra == 'F':\n",
    "    print(f'O gênero digitado foi feminino.')\n",
    "else:\n",
    "    if letra == 'M':\n",
    "        print(f'O gênero digitado foi masculino.')\n",
    "    else:\n",
    "        print(f'O gênero digitado é inválido.')\n"
   ]
  },
  {
   "cell_type": "markdown",
   "metadata": {},
   "source": [
    "[ 25 ] Faça um programa para a leitura de duas notas parciais de um aluno. O programa deve calcular a média alcançada por aluno e apresentar:  \n",
    "\n",
    "A mensagem \"Aprovado\", se a média alcançada for maior ou igual a sete;  \n",
    "\n",
    "A mensagem \"Reprovado\", se a média for menor do que sete;  \n",
    "\n",
    "A mensagem \"Aprovado com Distinção\", se a média for igual a dez. "
   ]
  },
  {
   "cell_type": "code",
   "execution_count": null,
   "metadata": {},
   "outputs": [],
   "source": [
    "#ler duas notas parciais do aluno\n",
    "\n",
    "nota1 = float(input(\"Digite a primeira nota: \"))\n",
    "nota2 = float(input(\"Digite a segunda nota: \"))\n",
    "\n",
    "#calcular a media\n",
    "\n",
    "media = (nota1 + nota2) / 2\n",
    "\n",
    "#apresentar a mensagem\n",
    "\n",
    "if media >= 7 and media < 10:\n",
    "    print('Aprovado')\n",
    "else:\n",
    "    if media == 10:\n",
    "        print('Aprovado com Distinção')\n",
    "    else:\n",
    "        print('Reprovado')\n"
   ]
  },
  {
   "cell_type": "markdown",
   "metadata": {},
   "source": [
    "[ 26 ] Faça um Programa que leia três números e mostre o maior deles."
   ]
  },
  {
   "cell_type": "code",
   "execution_count": null,
   "metadata": {},
   "outputs": [],
   "source": [
    "#ler tres numeros\n",
    "\n",
    "n1 = int(input(\"Digite o primeiro número: \"))\n",
    "n2 = int(input(\"Digite o segundo número: \"))\n",
    "n3 = int(input(\"Digite o terceiro número: \"))\n",
    "\n",
    "#calcular o maior numero \n",
    "\n",
    "maior = max(n1, n2, n3)\n",
    "#imprimir o resultado\n",
    "\n",
    "print(f'O maior número dos três digitados é o {maior}.')\n",
    "\n"
   ]
  },
  {
   "cell_type": "markdown",
   "metadata": {},
   "source": [
    "[ 27 ] Faça um programa que pergunte o preço de três produtos e informe qual produto você deve comprar, sabendo que a decisão é sempre pelo mais barato."
   ]
  },
  {
   "cell_type": "code",
   "execution_count": null,
   "metadata": {},
   "outputs": [],
   "source": [
    "#preço de tres produtos\n",
    "\n",
    "p1 = float(input(\"Digite o preço do primeiro produto: R$\"))\n",
    "p2 = float(input(\"Digite o preço do segundo produto: R$\"))\n",
    "p3 = float(input(\"Digite o preço do terceiro produto: R$\"))\n",
    "\n",
    "#calcular o menor preço\n",
    "\n",
    "menor = min(p1, p2, p3)\n",
    "\n",
    "#imprimir o resultado\n",
    "print(f'O mais aconselhado para a compra será o de R${menor:.2f}')"
   ]
  },
  {
   "cell_type": "markdown",
   "metadata": {},
   "source": [
    "[ 28 ] Faça um Programa que pergunte em que turno você estuda. Peça para digitar M-matutino ou V-Vespertino ou N- Noturno. Imprima a mensagem \"Bom Dia!\", \"Boa Tarde!\" ou \"Boa Noite!\" ou \"Valor Inválido!\", conforme o caso.  "
   ]
  },
  {
   "cell_type": "code",
   "execution_count": null,
   "metadata": {},
   "outputs": [],
   "source": [
    "#qual turno estuda \n",
    "\n",
    "turno = str(input(\"Qual o turno que você estuda? M para matutino ou V para vespertino ou N para noturno: \")).upper()\n",
    "\n",
    "#imprimir as condiçoes\n",
    "\n",
    "if turno == 'M':\n",
    "    print('Bom dia!')\n",
    "else:\n",
    "    if turno == 'V':\n",
    "        print('Boa tarde!')\n",
    "    else:\n",
    "        if turno == 'N':\n",
    "            print('Boa noite!')\n",
    "        else:\n",
    "            print('Valor Inválido!')\n",
    "            "
   ]
  },
  {
   "cell_type": "markdown",
   "metadata": {},
   "source": [
    "[ 29 ] As Organizações Tabajara resolveram dar um aumento de salário aos seus colaboradores e lhe contrataram para desenvolver o programa que calculará os reajustes. Faça um programa que recebe o salário de um colaborador e o reajuste segundo o seguinte critério, baseado no salário atual:  \n",
    "\n",
    "salários até R$ 280,00 (incluindo): aumento de 20%  \n",
    "\n",
    "salários entre R$ 280,00 e R$ 700,00: aumento de 15%  \n",
    "\n",
    "salários entre R$ 700,00 e R$ 1500,00: aumento de 10%  \n",
    "\n",
    "salários de R$ 1500,00 em diante: aumento de 5% Após o aumento ser realizado, informe na tela:  \n",
    "\n",
    "o salário antes do reajuste;  \n",
    "\n",
    "o percentual de aumento aplicado;  \n",
    "\n",
    "o valor do aumento;  \n",
    "\n",
    "o novo salário, após o aumento.  "
   ]
  },
  {
   "cell_type": "code",
   "execution_count": 12,
   "metadata": {},
   "outputs": [
    {
     "name": "stdout",
     "output_type": "stream",
     "text": [
      "O salário antes do reajuste é de R$1500.00.\n",
      "O percentual de aumento aplicado 5%.\n",
      "O valor do aumento é de R$75.00.\n",
      "O novo salário é de R$1575.00.\n"
     ]
    }
   ],
   "source": [
    "#receber o salario do colaborador \n",
    "\n",
    "salario = float(input(\"Digite o salário do colaborador: R$\"))\n",
    "\n",
    "#calcular o reajuste\n",
    "\n",
    "if salario != 0:\n",
    "    if salario <= 280:\n",
    "        aumento = salario * 0.20\n",
    "        porcentagem = 20\n",
    "    else:\n",
    "        if salario < 700:\n",
    "            aumento = salario * 0.15\n",
    "            porcentagem = 15\n",
    "        else :\n",
    "            if salario < 1500:\n",
    "                aumento = salario * 0.10\n",
    "                porcentagem = 10\n",
    "            else:\n",
    "                aumento = salario * 0.05\n",
    "                porcentagem = 5\n",
    "else:\n",
    "    print('Você não tem salário')\n",
    "    salario = 0\n",
    "    porcentagem = 0\n",
    "#imprimir o resultado\n",
    "\n",
    "print(f'O salário antes do reajuste é de R${salario:.2f}.')\n",
    "print(f'O percentual de aumento aplicado {porcentagem}%.')\n",
    "print(f'O valor do aumento é de R${aumento:.2f}.')\n",
    "print(f'O novo salário é de R${salario + aumento:.2f}.')"
   ]
  },
  {
   "cell_type": "markdown",
   "metadata": {},
   "source": [
    "[ 30 ]Faça um programa para o cálculo de uma folha de pagamento, sabendo que os descontos são do Imposto de Renda, que depende do salário bruto (conforme tabela abaixo) e 3% para o Sindicato e que o FGTS corresponde a 11% do Salário Bruto, mas não é descontado (é a empresa que deposita). O Salário Líquido corresponde ao Salário Bruto menos os descontos. O programa deverá pedir ao usuário o valor da sua hora e a quantidade de horas trabalhadas no mês.  \n",
    "\n",
    "Desconto do IR:  \n",
    "\n",
    "Salário Bruto até 900 (inclusive) - isento  \n",
    "\n",
    "Salário Bruto até 1500 (inclusive) - desconto de 5%  \n",
    "\n",
    "Salário Bruto até 2500 (inclusive) - desconto de 10%  \n",
    "\n",
    "Salário Bruto acima de 2500 - desconto de 20% \n",
    "\n",
    "Imprima na tela as informações, dispostas conforme o exemplo abaixo. No exemplo o valor da hora é 5 e a quantidade de hora é 220. \n",
    "\n",
    "Salário Bruto: (5 * 220)        : R$ 1100,00 \n",
    "\n",
    "(-) IR (5%)                     : R$   55,00   \n",
    "\n",
    "(-) INSS ( 10%)                 : R$  110,00 \n",
    "\n",
    "FGTS (11%)                      : R$  121,00 \n",
    "\n",
    "Total de descontos              : R$  165,00 \n",
    "\n",
    "Salário Liquido                 : R$  935,00 \n",
    "\n",
    " "
   ]
  },
  {
   "cell_type": "code",
   "execution_count": null,
   "metadata": {},
   "outputs": [],
   "source": [
    "#receber o valor da hora e a quantidade de horas\n",
    "\n",
    "valor_hora = float(input(\"Digite o valor da hora: \"))\n",
    "horas_trabalhadas = float(input(\"Digite a quantidade de horas trabalhadas no mês: \"))\n",
    "salario_bruto = valor_hora * horas_trabalhadas\n",
    "\n",
    "#calcular o desconto do importo de renda\n",
    "\n",
    "if salario_bruto <= 900:\n",
    "    desconto_ir = 0\n",
    "    desconto = 5\n",
    "else:\n",
    "    if salario_bruto <= 1500:\n",
    "        desconto_ir = salario_bruto * 0.05\n",
    "        desconto = 5\n",
    "    else:\n",
    "        if salario_bruto <= 2500:\n",
    "            desconto_ir = salario_bruto * 0.10\n",
    "            desconto = 10\n",
    "        else:\n",
    "            desconto_ir = salario_bruto * 0.20\n",
    "            desconto = 20\n",
    "            \n",
    "#desconto total\n",
    "\n",
    "desconto_inss = salario_bruto * 0.10\n",
    "desconto_fgts = salario_bruto * 0.11\n",
    "desconto_total = desconto_ir + desconto_inss\n",
    "\n",
    "#calcular o salario líquido\n",
    "\n",
    "salario_liquido = salario_bruto - desconto_total\n",
    "\n",
    "#imprimir o resultado\n",
    "\n",
    "print(f'Salário Bruto: ({valor_hora} * {horas_trabalhadas}): R${salario_bruto:.2f}')\n",
    "print(f'(-) IR ({desconto}%)                               : R${desconto_ir:.2f}')\n",
    "print(f'(-) INSS ( 10%)                                    : R${desconto_inss:.2f}')\n",
    "print(f'FGTS (11%)                                         : R${desconto_fgts:.2f}')\n",
    "print(f'Total de descontos                                 : R${desconto_total:.2f}')\n",
    "print(f'Salário Liquido                                    : R${salario_liquido:.2f}')"
   ]
  },
  {
   "cell_type": "markdown",
   "metadata": {},
   "source": [
    "[ 31 ] Faça um Programa que leia um número e exiba o dia correspondente da semana. (1-Domingo, 2- Segunda, etc.), se digitar outro valor deve aparecer valor inválido.   "
   ]
  },
  {
   "cell_type": "code",
   "execution_count": null,
   "metadata": {},
   "outputs": [],
   "source": [
    "#ler um numero\n",
    "\n",
    "numero = int(input(\"Digite um número de 1 a 7: \"))\n",
    "\n",
    "#calcular o dia da semana\n",
    "if numero == 1:\n",
    "    print(\"Domingo\")\n",
    "else:\n",
    "    if numero == 2:\n",
    "        print(\"Segunda\")\n",
    "    else:\n",
    "        if numero == 3:\n",
    "            print(\"Terça\")\n",
    "        else:\n",
    "            if numero == 4:\n",
    "                print(\"Quarta\")\n",
    "            else:\n",
    "                if numero == 5:\n",
    "                    print(\"Quinta\")\n",
    "                else:\n",
    "                    if numero == 6:\n",
    "                        print(\"Sexta\")\n",
    "                    else:\n",
    "                        if numero == 7:\n",
    "                            print(\"Sábado\")\n",
    "                        else:\n",
    "                            print(\"Valor inválido. O número deve ser de 1 a 7.\")\n",
    " \n",
    "        "
   ]
  },
  {
   "cell_type": "markdown",
   "metadata": {},
   "source": [
    "[ 32 ] Faça um programa que lê as duas notas parciais obtidas por um aluno numa disciplina ao longo de um semestre, e calcule a sua média. A atribuição de conceitos obedece à tabela abaixo:  \n",
    "\n",
    "Média de Aproveitamento  Conceito \n",
    "\n",
    "Entre 9.0 e 10.0       A \n",
    "\n",
    "Entre 7.5 e 9.0        B \n",
    "\n",
    "Entre 6.0 e 7.5        C \n",
    "\n",
    "Entre 4.0 e 6.0        D \n",
    "\n",
    "Entre 4.0 e zero       E \n",
    "\n",
    "O algoritmo deve mostrar na tela as notas, a média, o conceito correspondente e a mensagem “APROVADO” se o conceito for A, B ou C ou “REPROVADO” se o conceito for D ou E. "
   ]
  },
  {
   "cell_type": "code",
   "execution_count": null,
   "metadata": {},
   "outputs": [],
   "source": [
    "#notas parciais\n",
    "\n",
    "nota1 = float(input(\"Digite a primeira nota: \"))\n",
    "nota2 = float(input(\"Digite a segunda nota: \"))\n",
    "\n",
    "#calcular a media\n",
    "\n",
    "media = (nota1 + nota2) / 2\n",
    "\n",
    "#calcular o conceito\n",
    "\n",
    "if media >= 9 and media <=10.0:\n",
    "    conceito = \"A\"\n",
    "else:\n",
    "    if media >= 7.5 and media <= 9.0:\n",
    "        conceito = \"B\"\n",
    "    else:\n",
    "        if media >= 6.0 and media <= 7.5:\n",
    "            conceito = \"C\"\n",
    "        else:\n",
    "            if media >= 4.0 and media <= 6.0:\n",
    "                conceito = \"D\"\n",
    "            else:\n",
    "                conceito = \"E\"\n",
    "                    \n",
    "#resultado\n",
    "if conceito == \"A\" or conceito == \"B\" or conceito == \"C\":\n",
    "    resultado = 'APROVADO'\n",
    "else:\n",
    "    resultado = 'REPROVADO'\n",
    "\n",
    "#imprimir o boletim\n",
    "\n",
    "print(f'Notas     : {nota1} e {nota2}')\n",
    "print(f'Médias    : {media:.1f}')\n",
    "print(f'Conceito  : {conceito}')\n",
    "print(f'Resultado : {resultado}')\n"
   ]
  },
  {
   "cell_type": "markdown",
   "metadata": {},
   "source": [
    "[ 33 ] Faça um Programa que peça os 3 lados de um triângulo. O programa deverá informar se os valores podem ser um triângulo. Indique, caso os lados formem um triângulo, se o mesmo é: equilátero, isósceles ou escaleno.  \n",
    "\n",
    "Dicas: Três lados formam um triângulo quando a soma de quaisquer dois lados for maior que o terceiro; Triângulo Equilátero: três lados iguais; Triângulo isósceles: quaisquer dois lados iguais; Triângulo Escaleno: três lados diferentes;"
   ]
  },
  {
   "cell_type": "code",
   "execution_count": null,
   "metadata": {},
   "outputs": [],
   "source": [
    "#pedir tres lados de um triangulo\n",
    "print('-*-' *20)\n",
    "print('Analisador de Triangulos')\n",
    "print('-*-' *20)\n",
    "s1 = float(input('Qual o tamanho da primeira reta? '))\n",
    "s2 = float(input('Qual o tamanho da segunda reta? '))\n",
    "s3 = float(input('Qual o tamanho da terceira reta? '))\n",
    "\n",
    "#calcular o triangulo\n",
    "if  s1 < s2 + s3 and s2 < s1 + s3 and s3 < s1 + s2:\n",
    "    print('As retas podem formar um triângulo', end=' ')\n",
    "    if s1 == s2 == s3:\n",
    "        print('Equilátero')\n",
    "    else:\n",
    "        if s1 == s2 or s1 == s3 or s2 == s3:\n",
    "            print('Isósceles')\n",
    "        else:\n",
    "            print('Escaleno')\n",
    "else:\n",
    "    print('As retas não podem formar um triângulo')\n"
   ]
  },
  {
   "cell_type": "markdown",
   "metadata": {},
   "source": [
    "[ 34 ] Faça um programa que calcule as raízes de uma equação do segundo grau, na forma ax2 + bx + c. O programa deverá pedir os valores de a, b e c e fazer as consistências, informando ao usuário nas seguintes situações:  \n",
    "\n",
    "Se o usuário informar o valor de A igual a zero, a equação não é do segundo grau e o programa não deve fazer pedir os demais valores, sendo encerrado;  \n",
    "\n",
    "Se o delta calculado for negativo, a equação não possui raizes reais. Informe ao usuáro e encerre o programa; \n",
    "Se o delta calculado for igual a zero a equação possui apenas uma raiz real; informe-a ao usuário;"
   ]
  },
  {
   "cell_type": "code",
   "execution_count": 62,
   "metadata": {},
   "outputs": [
    {
     "name": "stdout",
     "output_type": "stream",
     "text": [
      "A equação não é do segundo grau\n"
     ]
    }
   ],
   "source": [
    "#pedir o valor de a, b ,c\n",
    "try:\n",
    "    a = int(input('Qual o valor de [ a ]: '))\n",
    "    if a == 0:# verifição\n",
    "        print('A equação não é do segundo grau')\n",
    "    else:\n",
    "        b = int(input('Qual o valor de [ b ]: '))\n",
    "        c = int(input('Qual o valor de [ c ]: '))\n",
    "        delta = (b**2) - (4*a*c)#delta\n",
    "        if delta < 0:\n",
    "            print('A equação não possui raizes reais. Programa encerrado.')\n",
    "        else:\n",
    "            if delta == 0:\n",
    "                print('A equação possui apenas uma raiz real ou dois valores iguais')\n",
    "                x1 = (-b + (delta**0.5)) / (2*a)#primeira raiz\n",
    "                x2 = (-b - (delta**0.5)) / (2*a)#segunda raiz\n",
    "                print(f'As raízes são {x1:.0f} e {x2:.0f}')\n",
    "            else:\n",
    "                x1 = (-b + (delta**0.5)) / (2*a)#primeira raiz\n",
    "                x2 = (-b - (delta**0.5)) / (2*a)#segunda raiz\n",
    "                print(f'As raízes são {x1:.0f} e {x2:.0f}')\n",
    "except:\n",
    "  print('Encerrando o programa.')\n",
    "\n",
    "\n"
   ]
  },
  {
   "cell_type": "markdown",
   "metadata": {},
   "source": [
    "[ 36 ] Faça um Programa que peça um número correspondente a um determinado ano e em seguida informe se este ano é ou não bissexto."
   ]
  },
  {
   "cell_type": "code",
   "execution_count": null,
   "metadata": {},
   "outputs": [],
   "source": [
    "#pedir o ano\n",
    "ano = int(input('Que ano quer analisar? Coloque 0 para analisar o ano atual: '))\n",
    "#condições\n",
    "if ano % 4 == 0 and ano % 100 != 0 or ano % 400 == 0:\n",
    "    print('O ano {} é bissexto'.format(ano))\n",
    "else:\n",
    "    print('O ano {} não é bissexto'.format(ano))"
   ]
  },
  {
   "cell_type": "markdown",
   "metadata": {},
   "source": [
    "[ 37 ] Faça um Programa para leitura de três notas parciais de um aluno. O programa deve calcular a média alcançada por aluno e apresentar:  \n",
    "\n",
    "A mensagem \"Aprovado\", se a média for maior ou igual a 7, com a respectiva média alcançada;  \n",
    "\n",
    "A mensagem \"Reprovado\", se a média for menor do que 7, com a respectiva média alcançada;  \n",
    "\n",
    "A mensagem \"Aprovado com Distinção\", se a média for igual a 10. "
   ]
  },
  {
   "cell_type": "code",
   "execution_count": null,
   "metadata": {},
   "outputs": [],
   "source": [
    "#tres notas\n",
    "\n",
    "nota1 = float(input('Digite a primeira nota: '))\n",
    "nota2 = float(input('Digite a segunda nota: '))\n",
    "nota3 = float(input('Digite a terceira nota: '))\n",
    "\n",
    "#calcular a media\n",
    "\n",
    "media = (nota1 + nota2 + nota3) / 3\n",
    "\n",
    "#resultado\n",
    "\n",
    "if media == 10:\n",
    "    situacao = 'Aprovado com Distinção'\n",
    "else:\n",
    "    if media >= 7:\n",
    "        situacao = 'Aprovado'\n",
    "    else:\n",
    "        situacao = 'Reprovado'\n",
    "print(f'{situacao}, com a respectiva média alcançada: {media:.1f}')\n",
    "        "
   ]
  },
  {
   "cell_type": "markdown",
   "metadata": {},
   "source": [
    "[ 38 ] Faça um Programa para um caixa eletrônico. O programa deverá perguntar ao usuário a valor do saque e depois informar quantas notas de cada valor serão fornecidas. As notas disponíveis serão as de 1, 5, 10, 50 e 100 reais. O valor mínimo é de 10 reais e o máximo de 600 reais. O programa não deve se preocupar com a quantidade de notas existentes na máquina.  \n",
    "\n",
    "Exemplo 1: Para sacar a quantia de 256 reais, o programa fornece duas notas de 100, uma nota de 50, uma nota de 5 e uma nota de 1;  \n",
    "\n",
    "Exemplo 2: Para sacar a quantia de 399 reais, o programa fornece três notas de 100, uma nota de 50, quatro notas de 10, uma nota de 5 e quatro notas de 1.  \n",
    "\n",
    "Faça um Programa que peça um número inteiro e determine se ele é par ou impar."
   ]
  },
  {
   "cell_type": "code",
   "execution_count": null,
   "metadata": {},
   "outputs": [],
   "source": [
    "#valor de saque\n",
    "\n",
    "valor = int(input('Qual o valor que você quer sacar? '))\n",
    "\n",
    "#condições\n",
    "if valor <= 600 and valor >= 10:\n",
    "    resto_100 = valor%100\n",
    "    resultado_100 = valor//100\n",
    "    resto_50 = resto_100%50\n",
    "    resultado_50 = resto_100//50\n",
    "    resto_10 = resto_50%10\n",
    "    resultado_10 = resto_50//10\n",
    "    resto_5 = resto_10%5\n",
    "    resultado_5 = resto_10//5\n",
    "    resto_1 = resto_5%1\n",
    "    resultado_1 = resto_5//1\n",
    "    #imprimindo os valores\n",
    "    print(f'Para sacar a quantia de {valor} reais, o programa fornece {resultado_100} notas de 100, {resultado_50} notas de 50, {resultado_10} notas de 10 ,{resultado_5} notas de 5 e {resultado_1} notas de 1;')\n",
    "else:\n",
    "    print('Valor indisponível no momento')\n",
    "\n"
   ]
  },
  {
   "cell_type": "markdown",
   "metadata": {},
   "source": [
    "[ 39 ] Faça um Programa que peça um número inteiro e determine se ele é par ou impar."
   ]
  },
  {
   "cell_type": "code",
   "execution_count": null,
   "metadata": {},
   "outputs": [],
   "source": [
    "#pedir um numero inteiro\n",
    "numero = int(input('Digite um número inteiro: '))\n",
    "\n",
    "#par ou impar\n",
    "\n",
    "if numero == 0:\n",
    "    print('O número {} é indefinido'.format(numero))\n",
    "else:\n",
    "    if numero % 2 == 0:\n",
    "        print('O número {} é par'.format(numero))\n",
    "    else:\n",
    "        print('O número {} é impar'.format(numero))\n",
    "\n"
   ]
  },
  {
   "cell_type": "markdown",
   "metadata": {},
   "source": [
    "[ 40 ] Faça um Programa que leia 2 números e em seguida pergunte ao usuário qual operação ele deseja realizar. O resultado da operação deve ser acompanhado de uma frase que diga se o número é:  \n",
    "\n",
    "par ou ímpar;  \n",
    "\n",
    "positivo ou negativo;  \n",
    "\n",
    "inteiro ou decimal. "
   ]
  },
  {
   "cell_type": "code",
   "execution_count": null,
   "metadata": {},
   "outputs": [],
   "source": [
    "#ler dois números \n",
    "\n",
    "numero1 = int(input('Digite um número inteiro: '))\n",
    "numero2 = int(input('Digite outro número inteiro: '))\n",
    "\n",
    "#operação\n",
    "\n",
    "operacao = str(input('Qual operação você deseja realizar? [*, - , + , / ]: '))\n",
    "\n",
    "#resultado da operação\n",
    "\n",
    "if operacao == '*': resultado = numero1 * numero2\n",
    "else:\n",
    "    if operacao == '-': resultado = numero1 - numero2\n",
    "    else:\n",
    "        if operacao == '+': resultado = numero1 + numero2\n",
    "        else:\n",
    "            if operacao == '/': resultado = numero1 / numero2\n",
    "            else:\n",
    "                print('Operação inválida')\n",
    "#resultado com a descrição\n",
    "\n",
    "if resultado == 0: classificacao = 'O número é indefinido'\n",
    "else:\n",
    "    if resultado % 2 == 0: classificacao = 'O número é par'\n",
    "    else: classificacao = 'O número é impar'\n",
    "    \n",
    "\n",
    "if resultado >= 0: sinal = 'O resultado da operação é positivo'\n",
    "else: sinal = 'O resultado da operação é negativo'\n",
    "    \n",
    "if type(resultado) == int: valor = 'O resultado da operação é inteiro'\n",
    "else: valor = 'O resultado da operação é decimal'\n",
    "\n",
    "#imprimindo o resultado\n",
    "\n",
    "print(f'''O resultado da operação é {resultado:.1f}: \n",
    "      {classificacao} \n",
    "      {sinal} \n",
    "      {valor}''')"
   ]
  },
  {
   "cell_type": "markdown",
   "metadata": {},
   "source": [
    "[ 41 ] Faça um programa que faça 5 perguntas para uma pessoa sobre um crime. As perguntas são:  \n",
    "\n",
    "\"Telefonou para a vítima?\"  \n",
    "\n",
    "\"Esteve no local do crime?\"  \n",
    "\n",
    "\"Mora perto da vítima?\"  \n",
    "\n",
    "\"Devia para a vítima?\"  \n",
    "\n",
    "\"Já trabalhou com a vítima?\" O programa deve no final emitir uma classificação sobre a participação da pessoa no crime. Se a pessoa responder positivamente a 2 questões ela deve ser classificada como \"Suspeita\", entre 3 e 4 como \"Cúmplice\" e 5 como \"Assassino\". Caso contrário, ele será classificado como \"Inocente\".  "
   ]
  },
  {
   "cell_type": "code",
   "execution_count": null,
   "metadata": {},
   "outputs": [],
   "source": [
    "#perguntas para a vítima\n",
    "ponto = 0\n",
    "telefone = str(input('Telefonou para a vítima? [S/N]: ')).upper().strip()[0]\n",
    "if telefone == \"S\": ponto += 1\n",
    "else:\n",
    "    if telefone == 'N':\n",
    "        ponto += 0\n",
    "    else:\n",
    "        print('Resposta inválida')\n",
    "        ponto -= 10000000000\n",
    "local = str(input('Esteve no local do crime? [S/N]: ')).upper().strip()[0]\n",
    "if local == \"S\": ponto += 1\n",
    "else:\n",
    "    if local == 'N':\n",
    "        ponto += 0\n",
    "    else:\n",
    "        print('Resposta inválida') \n",
    "        ponto -= 1000000000\n",
    "mora = str(input('Mora perto da vítima? [S/N]: ')).upper().strip()[0]\n",
    "if mora == \"S\": ponto += 1\n",
    "else:\n",
    "    if mora == 'N':\n",
    "        ponto += 0\n",
    "    else:\n",
    "        print('Resposta inválida') \n",
    "        ponto -= 100000000\n",
    "devia = str(input('Devia para a vítima? [S/N]: ')).upper().strip()[0]\n",
    "if devia == \"S\": ponto += 1\n",
    "else:\n",
    "    if devia == 'N':\n",
    "        ponto += 0\n",
    "    else:\n",
    "        print('Resposta inválida') \n",
    "        ponto -= 1000000000\n",
    "trabalho = str(input('Já trabalhou com a vítima? [S/N]: ')).upper().strip()[0]\n",
    "if trabalho == \"S\": ponto += 1\n",
    "else:\n",
    "    if trabalho == 'N':\n",
    "        ponto += 0\n",
    "    else:\n",
    "        print('Resposta inválida') \n",
    "        ponto -= 1000000000\n",
    "\n",
    "#investigação sobre\n",
    "if ponto >= 0:\n",
    "    if ponto == 2:\n",
    "        print('Suspeita')\n",
    "    else: \n",
    "        if ponto == 3 and ponto == 4:print('Cúmplice')\n",
    "        else:\n",
    "            if ponto == 5: print('Assassino')\n",
    "            else: print('Inocente')\n",
    "else:\n",
    "    print('Você não respondeu as perguntas com coerência, teve algum valor inválido, responda as atividades novamente')\n",
    "\n",
    "\n"
   ]
  },
  {
   "cell_type": "markdown",
   "metadata": {},
   "source": [
    "[ 42 ] Um posto está vendendo combustíveis com a seguinte tabela de descontos:  \n",
    "\n",
    "Álcool:  \n",
    "\n",
    "até 20 litros, desconto de 3% por litro  \n",
    "\n",
    "acima de 20 litros, desconto de 5% por litro  \n",
    "\n",
    "Gasolina:  \n",
    "\n",
    "até 20 litros, desconto de 4% por litro  \n",
    "\n",
    "acima de 20 litros, desconto de 6% por litro. \n",
    "\n",
    "Escreva um programa que leia o número de litros vendidos, o tipo de combustível (codificado da seguinte forma: A-álcool, G-gasolina), calcule e imprima o valor a ser pago pelo cliente sabendo-se que o preço do litro da gasolina é R$ 2,50 o preço do litro do álcool é R$ 1,90."
   ]
  },
  {
   "cell_type": "code",
   "execution_count": null,
   "metadata": {},
   "outputs": [],
   "source": [
    "#ler o numero de litros vendidos e o tipo de combustivel \n",
    "numero_litros = int(input('Digite o número de litros vendidos: '))\n",
    "tipo_combustivel = str(input('Qual o tipo de combustível? [A-álcool, G-gasolina]: ')).upper().strip()[0]\n",
    "if tipo_combustivel == 'A'or tipo_combustivel == 'G': \n",
    "    if tipo_combustivel == 'A': \n",
    "        preco_gasolina = 1.90\n",
    "        combustivel = 'Álcool'\n",
    "        if numero_litros <= 20: \n",
    "            desconto = numero_litros * 0.03\n",
    "        else:\n",
    "            desconto = numero_litros * 0.05\n",
    "    elif tipo_combustivel == 'G': \n",
    "        preco_gasolina = 2.50\n",
    "        combustivel = 'Gasolina'\n",
    "        if numero_litros <= 20:\n",
    "            desconto = numero_litros * 0.04\n",
    "        else: desconto = numero_litros * 0.06\n",
    "    valor_total = (numero_litros*preco_gasolina)-desconto\n",
    "    print(f'O valor a ser pago, por escolher {combustivel} é de R${valor_total:.2f}')\n",
    "else:\n",
    "    print('Valor de combustível inválido')\n",
    "\n"
   ]
  },
  {
   "cell_type": "markdown",
   "metadata": {},
   "source": [
    "[ 43 ] Uma fruteira está vendendo frutas com a seguinte tabela de preços:  \n",
    "\n",
    "Até 5 Kg           Acima de 5 Kg  \n",
    "\n",
    "Morango         R$ 2,50 por Kg          R$ 2,20 por Kg \n",
    "\n",
    "Maçã            R$ 1,80 por Kg          R$ 1,50 por Kg \n",
    "\n",
    "Se o cliente comprar mais de 8 Kg em frutas ou o valor total da compra ultrapassar R$ 25,00, receberá ainda um desconto de 10% sobre este total. Escreva um algoritmo para ler a quantidade (em Kg) de morangos e a quantidade (em Kg) de maças adquiridas e escreva o valor a ser pago pelo cliente. "
   ]
  },
  {
   "cell_type": "code",
   "execution_count": null,
   "metadata": {},
   "outputs": [],
   "source": [
    "#ler a quantidade (em Kg) de morangos e a quantidade (em Kg) de maças\n",
    "\n",
    "morangos = int(input('Digite a quantidade de morangos em Kg: '))\n",
    "macas = int(input('Digite a quantidade de maças em Kg: '))\n",
    "kg_total = morangos + macas\n",
    "#codição da quantidade\n",
    "if morangos <= 5 and macas <= 5 : \n",
    "    preco_morango = 2.50\n",
    "    preco_maca = 1.80\n",
    "else: \n",
    "    preco_morango = 2.20\n",
    "    preco_maca = 1.50\n",
    "#calculo por kg\n",
    "valor_total = (morangos * preco_morango) + (macas * preco_maca)\n",
    "if valor_total > 25.00 or kg_total > 8:\n",
    "    desconto = valor_total * 0.10\n",
    "    valor_total = valor_total - desconto\n",
    "print(f'O valor a ser pago é de R${valor_total:.2f}')\n",
    "\n"
   ]
  },
  {
   "cell_type": "markdown",
   "metadata": {},
   "source": [
    "[ 44 ] Elabore um algoritmo que dada a idade de um nadador classifica-o em uma das seguintes categorias: infantil A = 5 - 7 anos; infantil B = 8-10 anos; juvenil A = 11-13 anos; juvenil B = 14-17 anos; adulto = maiores de 18 anos."
   ]
  },
  {
   "cell_type": "code",
   "execution_count": null,
   "metadata": {},
   "outputs": [],
   "source": [
    "#recebe a idade do nadador\n",
    "idade = int(input('Digite a idade do nadador: '))\n",
    "#classificacao\n",
    "\n",
    "if idade >=5 and idade <= 7 :categoria = \"Infantil A\"\n",
    "else:\n",
    "    if idade >= 8 and idade <= 10 :categoria = \"Infantil B\"\n",
    "    else:\n",
    "        if idade >= 11 and idade <= 13 :categoria = \"Juvenil A\"\n",
    "        else:\n",
    "            if idade >= 14 and idade <= 17 :categoria = \"Juvenil B\"\n",
    "            else:\n",
    "                if idade >= 18 : categoria = \"Adulto\" \n",
    "                else:categoria = \"Idade Inválida\"\n",
    "#imprimir  a categoria do nadador\n",
    "if categoria != \"Idade Inválida\": print(f'A categoria correspondente do nadador: {categoria}')\n",
    "else:\n",
    "    print('Fora das categorias')\n",
    "                    "
   ]
  },
  {
   "cell_type": "markdown",
   "metadata": {},
   "source": [
    "[ 45 ] Tendo como dados de entrada a altura e o sexo de uma pessoa, construa um algoritmo que calcule seu peso ideal, utilizando as seguintes formulas: para homens: (72 .7h) - 58 e para mulheres: (62 .1h) - 44 .7 (h = altura)"
   ]
  },
  {
   "cell_type": "code",
   "execution_count": null,
   "metadata": {},
   "outputs": [],
   "source": [
    "#altura e sexo\n",
    "\n",
    "altura = float(input('Digite a altura: '))\n",
    "sexo = str(input('Qual o sexo? [M/F]: ')).upper()\n",
    "if sexo == 'M':\n",
    "    peso_ideal = (72.7 * altura) - 58\n",
    "    sexo_correspondente = \"Masculino\"\n",
    "else:\n",
    "    if sexo == 'F':\n",
    "        peso_ideal = (62.1 * altura) - 44.7\n",
    "        sexo_correspondente = \"Feminino\"\n",
    "    else:\n",
    "        print('Sexo Inválido')\n",
    "print(f'O peso ideal para o sexo {sexo_correspondente} é: {peso_ideal:.2f}Kg')"
   ]
  },
  {
   "cell_type": "markdown",
   "metadata": {},
   "source": [
    "[ 46 ] Escreva um programa que calcula a média de 30 alunos e informa a situação(reprovado, aprovado ou recuperação)."
   ]
  },
  {
   "cell_type": "code",
   "execution_count": null,
   "metadata": {},
   "outputs": [],
   "source": [
    "#calculo da media\n",
    "total = 0\n",
    "for i in range(3):\n",
    "    nota = float(input('Digite sua nota: '))\n",
    "    total += nota\n",
    "media = total / 3\n",
    "if media >= 7:\n",
    "    situacao = \"Aprovado\"\n",
    "elif media <= 5:\n",
    "    situacao = \"Reprovado\"\n",
    "elif media < 7:\n",
    "    situacao = \"Recuperação\"\n",
    "print(f'A situação dos alunos: {situacao}, pois ficou com a média {media:.1f}')"
   ]
  },
  {
   "cell_type": "markdown",
   "metadata": {},
   "source": [
    "[ 47 ] Escreva um programa que leia 10 números e informe o maior e o menor número."
   ]
  },
  {
   "cell_type": "code",
   "execution_count": null,
   "metadata": {},
   "outputs": [],
   "source": [
    "maior_numero = numero\n",
    "menor_numero = numero\n",
    "\n",
    "# Lê 10 números do usuário\n",
    "for i in range(4):\n",
    "    numero = int(input(f\"Digite o {i + 1}º número: \"))\n",
    "   \n",
    "    if numero > maior_numero:\n",
    "        maior_numero = numero\n",
    "    if numero < menor_numero:\n",
    "        menor_numero = numero\n",
    "\n",
    "print(f\"O maior número é: {maior_numero}\")\n",
    "print(f\"O menor número é: {menor_numero}\")"
   ]
  },
  {
   "cell_type": "markdown",
   "metadata": {},
   "source": [
    "[ 48 ] Escreva um programa que calcula o fatorial de um dado número N."
   ]
  },
  {
   "cell_type": "code",
   "execution_count": null,
   "metadata": {},
   "outputs": [],
   "source": [
    "resultado = 1\n",
    "numero = int(input(f\"Digite um número que você deseja ver o fatorial dele: \"))\n",
    "if numero < 0:\n",
    "    print(f'O número correspondente {numero}, não é válido para a operação')\n",
    "else:\n",
    "    for i in range(1,numero+1):\n",
    "        resultado *= i\n",
    "\n",
    "    print(f\"O fatorial de {numero}! é: {resultado}\")\n"
   ]
  },
  {
   "cell_type": "markdown",
   "metadata": {},
   "source": [
    "[ 49 ] Faça um programa para somar os números pares positivos < 1000 e ao final escrever o resultado."
   ]
  },
  {
   "cell_type": "code",
   "execution_count": null,
   "metadata": {},
   "outputs": [],
   "source": [
    "soma = 0\n",
    "for i in range(1000):\n",
    "    if i % 2 == 0:\n",
    "        soma += i\n",
    "        #print(i)\n",
    "print(soma)"
   ]
  },
  {
   "cell_type": "markdown",
   "metadata": {},
   "source": [
    "[ 50 ] Faça um programa para calcular a área de N quadriláteros. Fórmula: Área = Lado * Lado."
   ]
  },
  {
   "cell_type": "code",
   "execution_count": null,
   "metadata": {},
   "outputs": [],
   "source": [
    "numero_lado = int(input('Digite o número de quadriláteros: '))\n",
    "\n",
    "total_area = 0\n",
    "if numero_lado <= 0:\n",
    "    print(\"Por favor, digite um número positivo maior que zero.\")\n",
    "else:\n",
    "    for i in range (numero_lado):\n",
    "        lado = int(input(f'Digite o lado do {i+1}º quadriláteros: '))\n",
    "        area = lado * lado\n",
    "        print(f'A área total dos {i+1}º quadriláteros é: {area}')\n",
    "    "
   ]
  },
  {
   "cell_type": "markdown",
   "metadata": {},
   "source": [
    "[ 51 ] Faça um programa para calcular um valor A elevado a um expoente B. Os valores A e B deverão ser lidos. Não usar A ** B e sim uma estrutura de repetição."
   ]
  },
  {
   "cell_type": "code",
   "execution_count": null,
   "metadata": {},
   "outputs": [],
   "source": [
    "#ler a e b\n",
    "\n",
    "a = int(input('Digite o valor de A: '))\n",
    "b = int(input('Digite o valor de B: '))\n",
    "\n",
    "total = 1\n",
    "for i in range(b):\n",
    "    total = a ** i\n",
    "    print(f'{a}^{i} = {total}')"
   ]
  },
  {
   "cell_type": "markdown",
   "metadata": {},
   "source": [
    "[ 52 ] Sendo H = 1 + 1/2 + 1/3 + 1/4 + ... + 1/N. Faça um programa para gerar e mostrar o número H. O número N será fornecido como entrada."
   ]
  },
  {
   "cell_type": "code",
   "execution_count": null,
   "metadata": {},
   "outputs": [],
   "source": [
    "num = int(input(\"Digite um número inteiro positivo (N): \"))\n",
    "if num <= 0:\n",
    "    print(\"Por favor, digite um número positivo maior que zero.\")\n",
    "else:\n",
    "    resultado = soma \n",
    "    soma = 0\n",
    "    for i in range(1, num + 1): \n",
    "        soma +=  1 / i\n",
    "        if soma == 1/1:\n",
    "            print(f'''{1}\\n+''') \n",
    "        else:\n",
    "            print(f\"\"\"{1}/{i}\\n+\"\"\")\n",
    "                        \n",
    "print(f\"\\n ...O valor de H para N = {num} é: {soma}\")\n"
   ]
  },
  {
   "cell_type": "markdown",
   "metadata": {},
   "source": [
    "[ 53 ] Faça um programa para: a) Ler um valor x qualquer b) Calcular Y = (x+1)+(x+2)+(x+3)+(x+4)+(x+5)+…(x+100). | A fazer"
   ]
  },
  {
   "cell_type": "code",
   "execution_count": null,
   "metadata": {},
   "outputs": [],
   "source": [
    "\n",
    "\n",
    "x = int(input(\"Digite um valor para x: \"))\n",
    "soma = 0\n",
    "for i in range(1, 5):\n",
    "    termo = x + i\n",
    "    soma += termo\n",
    "    print(f'{x}+{i}')\n",
    "\n",
    "print(f\"O valor de Y é: {soma}\")\n"
   ]
  },
  {
   "cell_type": "markdown",
   "metadata": {},
   "source": [
    "[ 54 ] Fazer um programa que calcule e escreva a soma dos 50 primeiros termos da seguinte série: 1000/1+997/2+994/3 + ......."
   ]
  },
  {
   "cell_type": "code",
   "execution_count": null,
   "metadata": {},
   "outputs": [],
   "source": [
    "\n",
    "soma = 0\n",
    "numerador = 1003\n",
    "n = 50\n",
    "for i in range(1, n + 1):\n",
    "    termo = numerador / i\n",
    "    soma += termo\n",
    "    numerador -= 3 \n",
    "    print(f'{numerador}/{i}')\n",
    "    \n",
    "print(f\"A soma dos {n} primeiros termos da série é: {soma:.2f}\")\n"
   ]
  },
  {
   "cell_type": "markdown",
   "metadata": {},
   "source": [
    "[ 55 ] Faça um programa que recebe o número real x como entrada e devolva uma aproximação do arco tangente de x (em radianos) através da série: ![q55](https://media.discordapp.net/attachments/715218092560613476/1220148747124740116/image.png?ex=660de312&is=65fb6e12&hm=4195395ec419124c04e01aeb70ad217e8f637f47c512780e40deb7413127a5f6&=&format=webp&quality=lossless&width=360&height=67) Considere a aproximação para 50 termos."
   ]
  },
  {
   "cell_type": "code",
   "execution_count": null,
   "metadata": {},
   "outputs": [],
   "source": [
    "\n",
    "x = float(input(\"Digite um número real x: \"))\n",
    "\n",
    "resultado = 0\n",
    "sinal = 1\n",
    "\n",
    "for k in range(1, 51):\n",
    "    termo = sinal * (x ** (2 * k - 1)) / (2 * k - 1)\n",
    "    resultado += termo\n",
    "    sinal *= -1\n",
    "\n",
    "print(f\"A aproximação do arco tangente de {x} é: {resultado:.6f} radianos\")\n",
    "\n"
   ]
  },
  {
   "cell_type": "markdown",
   "metadata": {},
   "source": [
    "[ 56 ] Faça um programa que mostre os n termos da Série a seguir: S = 1/1 + 2/3 + 3/5 + 4/7 + 5/9 + ... + n/m. Imprima no final a soma da série."
   ]
  },
  {
   "cell_type": "code",
   "execution_count": null,
   "metadata": {},
   "outputs": [],
   "source": [
    "\n",
    "numero = int(input(\"Digite o número de termos (n): \"))\n",
    "if numero <= 0:\n",
    "    print(\"Por favor, digite um número positivo maior que zero.\")\n",
    "else:\n",
    "    soma = 0\n",
    "    numerador = 1\n",
    "    denominador = 1\n",
    "\n",
    "    for i in range(numero):\n",
    "        termo = numerador / denominador\n",
    "        soma += termo\n",
    "        numerador += 1\n",
    "        denominador += 2\n",
    "    print(f\"Os {numero} termos da série são:\")\n",
    "    for i in range(1, numero + 1):\n",
    "        print(f\"{i}/{2*i - 1}\", end=\"  \")\n",
    "\n",
    "    print(f\"\\nA soma dos {numero} termos da série é: {soma:.4f}\")\n",
    "\n"
   ]
  },
  {
   "cell_type": "markdown",
   "metadata": {},
   "source": [
    "[ 57 ] Cada espectador de um cinema respondeu a um questionário no qual constava sua idade e a sua opinião em relação ao filme: ótimo - 3, bom - 2, regular - 1. Faça um programa que receba a idade e a opinião de 15 espectadores, calcule e imprima: a) A média das idades das pessoas que responderam ótimo; b) A quantidade de pessoas que responderam regular; c) A porcentagem de pessoas que responderam bom entre todos os espectadores analisados."
   ]
  },
  {
   "cell_type": "code",
   "execution_count": null,
   "metadata": {},
   "outputs": [],
   "source": [
    "# Inicializa as variáveis para contagem e soma das idades\n",
    "total_idades_otimo = 0\n",
    "total_pessoas_regular = 0\n",
    "total_pessoas_bom = 0\n",
    "total_espectadores = 4\n",
    "# Lê as respostas de 4 espectadores , sem relevancia a variavel\n",
    "for _ in range(total_espectadores):\n",
    "    idade = int(input(\"Digite a idade do espectador: \"))\n",
    "    opiniao = int(input(\"Digite a opinião (3 para ótimo, 2 para bom, 1 para regular): \"))\n",
    "\n",
    "    if opiniao == 3:total_idades_otimo += idade\n",
    "    else:\n",
    "        if opiniao == 1:total_pessoas_regular += 1\n",
    "        else:\n",
    "            if opiniao == 2:total_pessoas_bom += 1\n",
    "            else:\n",
    "                print(\"Opinião inválida. Use 3 para ótimo, 2 para bom ou 1 para regular.\")\n",
    "\n",
    "# Calcula a média das idades das pessoas que responderam ótimo\n",
    "if total_idades_otimo > 0:\n",
    "    media_idades_otimo = total_idades_otimo / (total_espectadores-total_pessoas_bom-total_pessoas_regular)\n",
    "else:\n",
    "    media_idades_otimo = 0\n",
    "\n",
    "# Calcula a porcentagem de pessoas que responderam bom\n",
    "if total_pessoas_bom > 0:\n",
    "    porcentagem_bom = (total_pessoas_bom / total_espectadores) * 100\n",
    "else:\n",
    "    porcentagem_bom = 0\n",
    "\n",
    "\n",
    "# Imprime os resultados\n",
    "print(f\"A média das idades das pessoas que responderam ótimo é: {media_idades_otimo} anos\")\n",
    "print(f\"A quantidade de pessoas que respondeu regular é: {total_pessoas_regular}\")\n",
    "print(f\"A porcentagem de pessoas que respondeu bom é: {porcentagem_bom:.2f}%\")\n"
   ]
  },
  {
   "cell_type": "markdown",
   "metadata": {},
   "source": [
    "[ 58 ] Faça um programa que receba dois números inteiros e gere os números inteiros que estão no intervalo compreendido por eles."
   ]
  },
  {
   "cell_type": "code",
   "execution_count": null,
   "metadata": {},
   "outputs": [],
   "source": [
    "\n",
    "numero1 = int(input(\"Digite o primeiro número inteiro: \"))\n",
    "numero2 = int(input(\"Digite o segundo número inteiro: \"))\n",
    "\n",
    "# Verifica qual é o menor número\n",
    "inicio = min(numero1, numero2)\n",
    "# Verifica qual é o maior número\n",
    "fim = max(numero1, numero2)\n",
    "\n",
    "print(f\"Os números inteiros entre {inicio} e {fim} são:\")\n",
    "for numero in range(inicio + 1, fim):\n",
    "    print(numero)\n",
    "\n"
   ]
  },
  {
   "cell_type": "markdown",
   "metadata": {},
   "source": [
    "[ 59 ] Desenvolva um gerador de tabuada, capaz de gerar a tabuada de qualquer número inteiro entre 1 a 10. O usuário deve informar de qual numero ele deseja ver a tabuada. A saída deve ser conforme o exemplo abaixo: ![q59](https://media.discordapp.net/attachments/715218092560613476/1220148977786294364/image.png?ex=660de349&is=65fb6e49&hm=3a5312d2d5e225fa3d74a7156fe1086e822e1d03c0808ff1861bb13ae75751fd&=&format=webp&quality=lossless&width=127&height=117)"
   ]
  },
  {
   "cell_type": "code",
   "execution_count": null,
   "metadata": {},
   "outputs": [],
   "source": [
    "\n",
    "numero = int(input(\"Digite um número inteiro entre 1 e 10: \"))\n",
    "if 1 <= numero <= 10:\n",
    "    print(f\"Tabuada do {numero}:\")\n",
    "    for i in range(1, 11):\n",
    "        resultado = numero * i\n",
    "        print(f\"{numero} x {i} = {resultado}\")\n",
    "else:\n",
    "    print(\"Por favor, digite um número entre 1 e 10.\")\n"
   ]
  },
  {
   "cell_type": "markdown",
   "metadata": {},
   "source": [
    "[ 60 ] Faça um programa que peça um número inteiro e determine se ele é ou não um número primo. Um número primo é aquele que é divisível somente por ele mesmo e por 1. "
   ]
  },
  {
   "cell_type": "code",
   "execution_count": null,
   "metadata": {},
   "outputs": [],
   "source": [
    "numero = int(input(\"Digite um número inteiro: \"))\n",
    "\n",
    "if numero <= 1:\n",
    "    print(\"Número inválido. Digite um número maior que 1.\")\n",
    "else:\n",
    "    valor_primo = True\n",
    "    for i in range(2, int(numero**0.5) + 1):\n",
    "        if numero % i == 0:\n",
    "            valor_primo = False\n",
    "            break\n",
    "\n",
    "    if valor_primo == True:\n",
    "        print(f\"{numero} é um número primo.\")\n",
    "    else:\n",
    "        print(f\"{numero} não é um número primo.\")"
   ]
  },
  {
   "cell_type": "markdown",
   "metadata": {},
   "source": [
    "[ 61 ] Faça um programa que peça para n pessoas a sua idade, ao final o programa devera verificar se a média de idade da turma varia entre 0 e 25, 26 e 60 e maior que 60; e então, dizer se a turma é jovem, adulta ou idosa, conforme a média calculada."
   ]
  },
  {
   "cell_type": "code",
   "execution_count": null,
   "metadata": {},
   "outputs": [],
   "source": [
    "\n",
    "total_pessoas = int(input(\"Digite o número de pessoas na turma: \"))\n",
    "soma_idades = 0\n",
    "if total_pessoas == 0:\n",
    "    print(\"Por favor, digite um número maior que zero.\")\n",
    "else:\n",
    "    for i in range(1, total_pessoas + 1):\n",
    "        idade = int(input(f\"Digite a idade da {i}ª pessoa: \"))\n",
    "        soma_idades += idade\n",
    "\n",
    "    media_idade = soma_idades / total_pessoas\n",
    "\n",
    "    if 0 < media_idade <= 25:\n",
    "        print(\"A turma é jovem.\")\n",
    "    elif 26 <= media_idade <= 60:\n",
    "        print(\"A turma é adulta.\")\n",
    "    elif media_idade == 0:\n",
    "        print(\"A turma ainda vai nascer.\")\n",
    "    else:\n",
    "        print(\"A turma é idosa.\")\n",
    "\n"
   ]
  },
  {
   "cell_type": "markdown",
   "metadata": {},
   "source": [
    "[ 62 ]A série de FETUCCINE é gerada da seguinte forma: os dois primeiros termos são fornecidos pelo usuário; a partir daí, os termos são gerados com a soma ou subtração dos dois termos anteriores, ou seja: ![q62](https://media.discordapp.net/attachments/715218092560613476/1220149256749449216/image.png?ex=660de38c&is=65fb6e8c&hm=d7f7895000093b42568fb8adfa46bb93b35f46ec7d9d13cf46d3462997418a3d&=&format=webp&quality=lossless&width=163&height=57) Faça um programa em Python para mostrar os N primeiros termos da série de FETUCCINE, sabendo-se que para existir esta série serão necessários pelo menos três termos."
   ]
  },
  {
   "cell_type": "code",
   "execution_count": null,
   "metadata": {},
   "outputs": [],
   "source": [
    "while True:\n",
    "    n = int(input(\"Digite o número de termos da série de Fetuccine (pelo menos 3): \"))\n",
    "    if n < 3:\n",
    "        print(\"Pelo menos três termos são necessários para a série de Fetuccine.\")\n",
    "    else:\n",
    "        break\n",
    "\n",
    "termo1 = int(input(\"Digite o primeiro termo: \"))\n",
    "termo2 = int(input(\"Digite o segundo termo: \"))\n",
    "\n",
    "print(f\"\\nOs {n} primeiros termos da série de Fetuccine são:\")\n",
    "print(termo1, end=\" \")\n",
    "print(termo2, end=\" \")\n",
    "\n",
    "for i in range(2, n):#i referencial\n",
    "    if i % 2 == 0:\n",
    "        novo_termo = termo2 + termo1\n",
    "    else:\n",
    "        novo_termo = termo2 - termo1\n",
    "    print(novo_termo, end=\" \")\n",
    "    termo1 = termo2\n",
    "    termo2 = novo_termo\n"
   ]
  },
  {
   "cell_type": "markdown",
   "metadata": {},
   "source": [
    "[ 63 ] Escreva um programa que imprima os N termos de uma Progressão Aritmética, conforme fórmula a seguir. O usuário deverá fornecer o valor de: n (número de termos), r (razão) e a1 (primeiro termo da série). ![q63](https://media.discordapp.net/attachments/715218092560613476/1220149528263528588/image.png?ex=660de3cc&is=65fb6ecc&hm=c9b8dbe886097b9d6919c167aa9f0109760b4bb7a9e69450e8c3c7fe9be3f1de&=&format=webp&quality=lossless&width=165&height=134)"
   ]
  },
  {
   "cell_type": "code",
   "execution_count": null,
   "metadata": {},
   "outputs": [],
   "source": [
    "n = int(input(\"Digite o número de termos (n): \"))\n",
    "a1 = float(input(\"Digite o primeiro termo (a1): \"))\n",
    "r = float(input(\"Digite a razão (r): \"))\n",
    "\n",
    "print(f\"Os {n} termos da Progressão Aritmética são:\")\n",
    "for i in range(n):\n",
    "    termo = (a1) + (i * r)\n",
    "    print(f\"a{i+1} = {termo:.2f}\")\n"
   ]
  },
  {
   "cell_type": "markdown",
   "metadata": {},
   "source": [
    "[ 64 ] O Departamento Estadual de Meteorologia lhe contratou para desenvolver um programa que leia um conjunto indeterminado de temperaturas, e informe ao final a menor e a maior temperatura informada, bem como a média das temperaturas."
   ]
  },
  {
   "cell_type": "code",
   "execution_count": null,
   "metadata": {},
   "outputs": [],
   "source": [
    "# Inicializa as variáveis para a menor, a maior e a soma das temperaturas\n",
    "menor_temperatura = float('inf')\n",
    "maior_temperatura = float('-inf')\n",
    "soma_temperaturas = 0\n",
    "contador = 0\n",
    "\n",
    "while True:\n",
    "    temperatura = float(input(\"Digite a temperatura (ou digite '0' para encerrar): \"))\n",
    "    if temperatura == 0:\n",
    "        break  # Encerra a leitura de temperaturas\n",
    "    else:\n",
    "        menor_temperatura = min(menor_temperatura, temperatura)\n",
    "        maior_temperatura = max(maior_temperatura, temperatura)\n",
    "        soma_temperaturas += temperatura\n",
    "        contador += 1\n",
    "\n",
    "if contador > 0:\n",
    "    media_temperaturas = soma_temperaturas / contador\n",
    "    print(f\"A menor temperatura foi {menor_temperatura:.2f}°C\")\n",
    "    print(f\"A maior temperatura foi {maior_temperatura:.2f}°C\")\n",
    "    print(f\"A média das temperaturas foi {media_temperaturas:.2f}°C\")\n",
    "else:\n",
    "    print(\"Nenhuma temperatura válida foi informada.\")\n"
   ]
  },
  {
   "cell_type": "markdown",
   "metadata": {},
   "source": [
    "[ 65 ] Faça um programa que receba o valor de uma dívida e mostre uma tabela com os seguintes dados: valor da dívida, valor dos juros, quantidade de parcelas e valor da parcela. Os juros e a quantidade de parcelas seguem a tabela abaixo: ![q65](https://media.discordapp.net/attachments/715218092560613476/1220149954383712276/image.png?ex=660de432&is=65fb6f32&hm=d7ae5606750b114f93589b3c4bbb7031681e920e7baf62b4c96400303ca9125e&=&format=webp&quality=lossless&width=586&height=256)"
   ]
  },
  {
   "cell_type": "code",
   "execution_count": null,
   "metadata": {},
   "outputs": [],
   "source": [
    "# Recebe da valoror da dívida\n",
    "divida = float(input(\"Digite o valor da dívida: R$ \"))\n",
    "porcentagem = 0\n",
    "quantidade = 1\n",
    "print(f'{divida} {porcentagem} {quantidade} {divida}')\n",
    "for  i in range(0,5,3):\n",
    "    if porcentagem == 0 and quantidade == 1:\n",
    "        porcentagem += 100\n",
    "        quantidade += 2\n",
    "        divida_total= divida + porcentagem\n",
    "        parcela = (divida_total/quantidade) - 0.67\n",
    "    else:\n",
    "        porcentagem += 50\n",
    "        quantidade += 3\n",
    "        divida_total= divida + porcentagem\n",
    "        parcela = divida_total/quantidade\n",
    "    print(f'{divida_total} {porcentagem} {quantidade} {parcela:.2f}')"
   ]
  },
  {
   "cell_type": "markdown",
   "metadata": {},
   "source": [
    "[ 66 ] Uma grande firma deseja saber qual é o empregado mais recente e qual é o mais antigo. Desenvolver um programa para ler um número indeterminado de informações contendo o número do empregado e o número de meses de trabalho deste empregado e imprimir o mais recente e o mais antigo. Obs.: A última informação contém os dois números iguais a zero. Não existem dois empregados admitidos no mesmo mês."
   ]
  },
  {
   "cell_type": "code",
   "execution_count": null,
   "metadata": {},
   "outputs": [],
   "source": []
  },
  {
   "cell_type": "markdown",
   "metadata": {},
   "source": [
    "[ 67 ] A prefeitura de uma cidade fez uma pesquisa entre seus habitantes, coletando dados sobre o salário e número de filhos. A prefeitura deseja saber: a) Média do salário da população; b) Média do número de filhos; c) Maior salário; d) Percentual de pessoas com salário até R$250,00. Desenvolver um programa para calcular e escrever o que foi pedido nos itens a, b, c e d. O final da leitura de dados se dará com a entrada de um salário negativo."
   ]
  },
  {
   "cell_type": "code",
   "execution_count": null,
   "metadata": {},
   "outputs": [],
   "source": [
    "# Inicializa variáveis para cálculos\n",
    "soma_salario = 0\n",
    "soma_filhos = 0\n",
    "maior_salario = float(\"-inf\")#garatir que teremos o maior salario\n",
    "num_pessoas_salario_ate_250 = 0\n",
    "total_pessoas = 0\n",
    "\n",
    "while True:\n",
    "    salario = float(input(\"Digite o salário (ou um valor negativo para encerrar): \"))\n",
    "    if salario < 0: break \n",
    "    else: num_filhos = int(input(\"Digite o número de filhos: \"))\n",
    "    \n",
    "    soma_salario += salario\n",
    "    soma_filhos += num_filhos\n",
    "    total_pessoas += 1\n",
    "    if salario > maior_salario:maior_salario = salario\n",
    "    if salario <= 250:num_pessoas_salario_ate_250 += 1\n",
    "\n",
    "media_salario = soma_salario / total_pessoas\n",
    "media_filhos = soma_filhos / total_pessoas\n",
    "\n",
    "percentual_salario_ate_250 = (num_pessoas_salario_ate_250 / total_pessoas) * 100\n",
    "\n",
    "print(f\"Média do salário da população: R${media_salario:.2f}\")\n",
    "print(f\"Média do número de filhos: {media_filhos:.2f}\")\n",
    "print(f\"Maior salário: R${maior_salario:.2f}\")\n",
    "print(f\"Percentual de pessoas com salário até R$250,00: {percentual_salario_ate_250:.2f}%\")\n"
   ]
  },
  {
   "cell_type": "markdown",
   "metadata": {},
   "source": [
    "[ 68 ] Faça um programa que leia uma quantidade não determinada de números positivos. Calcule a quantidade de números pares e ímpares, a média de valores pares e a média geral dos números lidos. O número que encerrará a leitura será zero."
   ]
  },
  {
   "cell_type": "code",
   "execution_count": null,
   "metadata": {},
   "outputs": [],
   "source": [
    "# Inicializa variáveis para cálculos\n",
    "soma_pares = 0\n",
    "soma_impares = 0\n",
    "total_pares = 0\n",
    "total_impares = 0\n",
    "total_numeros = 0\n",
    "\n",
    "# Loop para coletar números positivos\n",
    "while True:\n",
    "    numero = float(input(\"Digite um número positivo (ou zero para encerrar): \"))\n",
    "    if numero == 0:\n",
    "        break  \n",
    "    # Verifica se o número é par ou ímpar\n",
    "    if numero % 2 == 0:\n",
    "        soma_pares += numero\n",
    "        total_pares += 1\n",
    "    else:\n",
    "        soma_impares += numero\n",
    "        total_impares += 1\n",
    "\n",
    "# Calcula média geral e média dos valores pares (se houver)\n",
    "if total_pares > 0:\n",
    "    media_pares = soma_pares / total_pares\n",
    "else:\n",
    "    media_pares = 0\n",
    "\n",
    "media_geral = (soma_pares + soma_impares) / total_numeros\n",
    "\n",
    "# Imprime os resultados\n",
    "print(f\"Quantidade de números pares: {total_pares}\")\n",
    "print(f\"Quantidade de números ímpares: {total_impares}\")\n",
    "print(f\"Média dos valores pares: {media_pares:.2f}\")\n",
    "print(f\"Média geral dos números lidos: {media_geral:.2f}\")\n"
   ]
  },
  {
   "cell_type": "markdown",
   "metadata": {},
   "source": [
    "[ 69 ] O cardápio de uma lanchonete é o seguinte: ![q69](https://media.discordapp.net/attachments/715218092560613476/1220150084709388309/image.png?ex=660de451&is=65fb6f51&hm=738eb28e2f3fd8ac27a005c648278e7c94401aa5dc1351f540877eccde392d30&=&format=webp&quality=lossless&width=382&height=148) Faça um programa que leia o código dos itens pedidos e as quantidades desejadas. Calcule e mostre o valor a ser pago por item (preço * quantidade) e o total geral do pedido. Considere que o cliente deve informar quando o pedido deve ser encerrado."
   ]
  },
  {
   "cell_type": "code",
   "execution_count": null,
   "metadata": {},
   "outputs": [],
   "source": [
    "# Inicializa variáveis para cálculos\n",
    "total_pedido = 0\n",
    "\n",
    "# Loop para coletar os pedidos\n",
    "while True:\n",
    "    codigo = int(input(\"Digite o código do item (ou zero para encerrar): \"))\n",
    "    if codigo == 0:\n",
    "        break  # Encerra o loop se o código for zero\n",
    "\n",
    "    # Verifica se o código é válido\n",
    "    if codigo == 100:\n",
    "        nome_item = \"Cachorro Quente\"\n",
    "        preco_item = 1.20\n",
    "    elif codigo == 101:\n",
    "        nome_item = \"Bauru Simples\"\n",
    "        preco_item = 1.30\n",
    "    elif codigo == 102:\n",
    "        nome_item = \"Bauru com Ovo\"\n",
    "        preco_item = 1.50\n",
    "    elif codigo == 103:\n",
    "        nome_item = \"Hambúrguer\"\n",
    "        preco_item = 1.20\n",
    "    elif codigo == 104:\n",
    "        nome_item = \"Cheeseburguer\"\n",
    "        preco_item = 1.30\n",
    "    elif codigo == 105:\n",
    "        nome_item = \"Refrigerante\"\n",
    "        preco_item = 1.00\n",
    "    else:\n",
    "        print(\"Código inválido. Digite um código válido.\")\n",
    "        continue\n",
    "\n",
    "    quantidade = int(input(f\"Digite a quantidade de {nome_item}: \"))\n",
    "\n",
    "    # Calcula o valor a ser pago por item\n",
    "    valor_item = preco_item * quantidade\n",
    "    total_pedido += valor_item\n",
    "\n",
    "    print(f\"{nome_item}: {quantidade} x R${preco_item:.2f} = R${valor_item:.2f}\")\n",
    "\n",
    "# Imprime o total geral do pedido\n",
    "print(f\"Total do pedido: R${total_pedido:.2f}\")\n",
    "\n"
   ]
  },
  {
   "cell_type": "markdown",
   "metadata": {},
   "source": [
    "[ 70 ] Você foi contratado para escrever um algoritmo que calcule quantos pontos fez um time num campeonato de futebol. Para os que não conhecem futebol uma vitória vale três pontos, um empate vale 1 ponto e a derrota não vale ponto. A entrada será composta por pares de números indicando o resultado de cada jogo. O primeiro número sempre corresponde ao total de gols que o time fez no jogo. A leitura dos dados será finalizada quando for fornecido um número de gols negativo."
   ]
  },
  {
   "cell_type": "code",
   "execution_count": 194,
   "metadata": {},
   "outputs": [
    {
     "name": "stdout",
     "output_type": "stream",
     "text": [
      "Total de pontos do time: 4\n"
     ]
    }
   ],
   "source": [
    "# Inicializa variáveis para cálculos\n",
    "pontos = 0\n",
    "\n",
    "# Loop para coletar os resultados dos jogos\n",
    "while True:\n",
    "    gols_time = int(input(\"Digite o número de gols do time (ou um valor negativo para encerrar): \"))\n",
    "    if gols_time < 0:\n",
    "        break  # Encerra o loop se o número de gols for negativo\n",
    "\n",
    "    if gols_time > 0:\n",
    "        resultado = input(\"Digite o resultado (V para vitória, E para empate, D para derrota): \").upper()\n",
    "\n",
    "        if resultado == \"V\":\n",
    "            pontos += 3\n",
    "        elif resultado == \"E\":\n",
    "            pontos += 1\n",
    "\n",
    "# Imprime a pontuação total do time\n",
    "print(f\"Total de pontos do time: {pontos}\")\n"
   ]
  },
  {
   "cell_type": "markdown",
   "metadata": {},
   "source": [
    "[ 71 ] Faça um programa que receba um número e verifique se ele é ou não triangular. OBS: um número é triangular quando é resultado do produto de 3 números consecutivos. Exemplo: o número 24 é triangular, pois, 24 = 2 * 3 * 4."
   ]
  },
  {
   "cell_type": "markdown",
   "metadata": {},
   "source": [
    "[ 72 ] Faça um programa para validar o login e a senha de um usuário. Caso o usuário informe algum valor inválido informar o erro e pedir novamente os dados. A leitura dos dados deve ser encerrada quando o usuário digitar 3 vezes um valor inválido (login ou senha). Considere o login válido como \"kezia\" e a senha como \"123\"."
   ]
  }
 ],
 "metadata": {
  "kernelspec": {
   "display_name": "Python 3",
   "language": "python",
   "name": "python3"
  },
  "language_info": {
   "codemirror_mode": {
    "name": "ipython",
    "version": 3
   },
   "file_extension": ".py",
   "mimetype": "text/x-python",
   "name": "python",
   "nbconvert_exporter": "python",
   "pygments_lexer": "ipython3",
   "version": "3.11.8"
  }
 },
 "nbformat": 4,
 "nbformat_minor": 2
}
